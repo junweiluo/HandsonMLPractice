{
  "nbformat": 4,
  "nbformat_minor": 0,
  "metadata": {
    "colab": {
      "name": "Chapter15Ex04_Wavenet.ipynb",
      "provenance": [],
      "authorship_tag": "ABX9TyNq8HsrB2er0SLLd+43T30w",
      "include_colab_link": true
    },
    "kernelspec": {
      "name": "python3",
      "display_name": "Python 3"
    },
    "accelerator": "GPU"
  },
  "cells": [
    {
      "cell_type": "markdown",
      "metadata": {
        "id": "view-in-github",
        "colab_type": "text"
      },
      "source": [
        "<a href=\"https://colab.research.google.com/github/junweiluo/HandsonMLPractice/blob/master/Chapter15Ex04_Wavenet.ipynb\" target=\"_parent\"><img src=\"https://colab.research.google.com/assets/colab-badge.svg\" alt=\"Open In Colab\"/></a>"
      ]
    },
    {
      "cell_type": "markdown",
      "metadata": {
        "id": "nwMpTIbn7ZLt",
        "colab_type": "text"
      },
      "source": [
        "Wavenet is using 1DConvolutional Network to process long sequence.\n",
        "The point is using dilation rate to skip certain neuron to train model to skip certain unimportant information.\n",
        "\n",
        "https://towardsdatascience.com/review-dilated-convolution-semantic-segmentation-9d5a5bd768f5\n",
        "\n",
        "Dilation = 1 means no dilation/no skipping of any neuron/feature.\n"
      ]
    },
    {
      "cell_type": "markdown",
      "metadata": {
        "id": "7WfV_C_j9Pwm",
        "colab_type": "text"
      },
      "source": [
        "C2  /\\ /\\ /\\ /\\ /\\ /\\ /\\ /\\ /\\ /\\ /\\ /\\ /\\.../\\ /\\ /\\ /\\ /\\ /\\\n",
        "   \\  /  \\  /  \\  /  \\  /  \\  /  \\  /  \\       /  \\  /  \\  /  \\\n",
        "     /    \\      /    \\      /    \\                 /    \\\n",
        "C1  /\\ /\\ /\\ /\\ /\\ /\\ /\\ /\\ /\\ /\\ /\\  /\\ /.../\\ /\\ /\\ /\\ /\\ /\\ /\\\n",
        "X: 0  1  2  3  4  5  6  7  8  9  10 11 12 ... 43 44 45 46 47 48 49\n",
        "Y: 1  2  3  4  5  6  7  8  9  10 11 12 13 ... 44 45 46 47 48 49 50\n",
        "  /10 11 12 13 14 15 16 17 18 19 20 21 22 ... 53 54 55 56 57 58 59"
      ]
    },
    {
      "cell_type": "code",
      "metadata": {
        "id": "pbPybSO27O0A",
        "colab_type": "code",
        "colab": {
          "base_uri": "https://localhost:8080/",
          "height": 87
        },
        "outputId": "38fc0901-293a-4a10-935a-27d625c1b251"
      },
      "source": [
        "# Python ≥3.5 is required\n",
        "import sys\n",
        "assert sys.version_info >= (3, 5)\n",
        "\n",
        "# Scikit-Learn ≥0.20 is required\n",
        "import sklearn\n",
        "assert sklearn.__version__ >= \"0.20\"\n",
        "\n",
        "try:\n",
        "    # %tensorflow_version only exists in Colab.\n",
        "    %tensorflow_version 2.x\n",
        "    IS_COLAB = True\n",
        "except Exception:\n",
        "    IS_COLAB = False\n",
        "\n",
        "# TensorFlow ≥2.0 is required\n",
        "import tensorflow as tf\n",
        "from tensorflow import keras\n",
        "assert tf.__version__ >= \"2.0\"\n",
        "\n",
        "if not tf.test.is_gpu_available():\n",
        "    print(\"No GPU was detected. LSTMs and CNNs can be very slow without a GPU.\")\n",
        "    if IS_COLAB:\n",
        "        print(\"Go to Runtime > Change runtime and select a GPU hardware accelerator.\")\n",
        "\n",
        "# Common imports\n",
        "import numpy as np\n",
        "import os\n",
        "\n",
        "# to make this notebook's output stable across runs\n",
        "np.random.seed(42)\n",
        "tf.random.set_seed(42)\n",
        "\n",
        "# To plot pretty figures\n",
        "%matplotlib inline\n",
        "import matplotlib as mpl\n",
        "import matplotlib.pyplot as plt\n",
        "mpl.rc('axes', labelsize=14)\n",
        "mpl.rc('xtick', labelsize=12)\n",
        "mpl.rc('ytick', labelsize=12)\n",
        "\n",
        "# Where to save the figures\n",
        "PROJECT_ROOT_DIR = \".\"\n",
        "CHAPTER_ID = \"rnn\"\n",
        "IMAGES_PATH = os.path.join(PROJECT_ROOT_DIR, \"images\", CHAPTER_ID)\n",
        "os.makedirs(IMAGES_PATH, exist_ok=True)\n",
        "\n",
        "def save_fig(fig_id, tight_layout=True, fig_extension=\"png\", resolution=300):\n",
        "    path = os.path.join(IMAGES_PATH, fig_id + \".\" + fig_extension)\n",
        "    print(\"Saving figure\", fig_id)\n",
        "    if tight_layout:\n",
        "        plt.tight_layout()\n",
        "    plt.savefig(path, format=fig_extension, dpi=resolution)"
      ],
      "execution_count": 1,
      "outputs": [
        {
          "output_type": "stream",
          "text": [
            "WARNING:tensorflow:From <ipython-input-1-85b4f3717e2e>:21: is_gpu_available (from tensorflow.python.framework.test_util) is deprecated and will be removed in a future version.\n",
            "Instructions for updating:\n",
            "Use `tf.config.list_physical_devices('GPU')` instead.\n"
          ],
          "name": "stdout"
        }
      ]
    },
    {
      "cell_type": "code",
      "metadata": {
        "id": "JGR9rOyn9XvW",
        "colab_type": "code",
        "colab": {}
      },
      "source": [
        "def generate_time_series(batch_size, n_steps):\n",
        "    freq1, freq2, offsets1, offsets2 = np.random.rand(4, batch_size, 1)\n",
        "    time = np.linspace(0, 1, n_steps)\n",
        "    series = 0.5 * np.sin((time - offsets1) * (freq1 * 10 + 10))  #   wave 1\n",
        "    series += 0.2 * np.sin((time - offsets2) * (freq2 * 20 + 20)) # + wave 2\n",
        "    series += 0.1 * (np.random.rand(batch_size, n_steps) - 0.5)   # + noise\n",
        "    return series[..., np.newaxis].astype(np.float32)"
      ],
      "execution_count": 0,
      "outputs": []
    },
    {
      "cell_type": "code",
      "metadata": {
        "id": "ncTs8wfo9hIS",
        "colab_type": "code",
        "colab": {}
      },
      "source": [
        "np.random.seed(42)\n",
        "\n",
        "n_steps = 50\n",
        "series = generate_time_series(10000, n_steps + 10)\n",
        "X_train = series[:7000, :n_steps]\n",
        "X_valid = series[7000:9000, :n_steps]\n",
        "X_test = series[9000:, :n_steps]\n",
        "Y = np.empty((10000, n_steps, 10))\n",
        "for step_ahead in range(1, 10 + 1):\n",
        "    Y[..., step_ahead - 1] = series[..., step_ahead:step_ahead + n_steps, 0]\n",
        "Y_train = Y[:7000]\n",
        "Y_valid = Y[7000:9000]\n",
        "Y_test = Y[9000:]"
      ],
      "execution_count": 0,
      "outputs": []
    },
    {
      "cell_type": "code",
      "metadata": {
        "id": "d0lPrCCN9nem",
        "colab_type": "code",
        "colab": {
          "base_uri": "https://localhost:8080/",
          "height": 34
        },
        "outputId": "a049348e-d2d8-490d-f3e9-c0500d299d0c"
      },
      "source": [
        "X_train.shape, Y_train.shape #  from the predictor and target shape. 50 to 10"
      ],
      "execution_count": 4,
      "outputs": [
        {
          "output_type": "execute_result",
          "data": {
            "text/plain": [
              "((7000, 50, 1), (7000, 50, 10))"
            ]
          },
          "metadata": {
            "tags": []
          },
          "execution_count": 4
        }
      ]
    },
    {
      "cell_type": "code",
      "metadata": {
        "id": "r76vA7U49sKT",
        "colab_type": "code",
        "colab": {}
      },
      "source": [
        "np.random.seed(42)\n",
        "tf.random.set_seed(42)\n",
        "\n",
        "model = keras.models.Sequential()\n",
        "model.add(keras.layers.InputLayer(input_shape=[None, 1]))\n",
        "for rate in (1, 2, 4, 8) * 2:\n",
        "    model.add(keras.layers.Conv1D(filters=20, kernel_size=2, padding=\"causal\",\n",
        "                                  activation=\"relu\", dilation_rate=rate))\n",
        "model.add(keras.layers.Conv1D(filters=10, kernel_size=1))"
      ],
      "execution_count": 0,
      "outputs": []
    },
    {
      "cell_type": "code",
      "metadata": {
        "id": "Essmx-7R9s8-",
        "colab_type": "code",
        "colab": {
          "base_uri": "https://localhost:8080/",
          "height": 454
        },
        "outputId": "4456dd77-dc56-4766-d588-d556305712c6"
      },
      "source": [
        "model.summary()\n",
        "\n",
        "# there is no LSTM or GRU but still achieve long sequence processing.\n",
        "# Can we combine 1DConvoFilter and LSTM or GRU?\n",
        "# Param 20 channels *2Kernal + 20 bias\n",
        "# Param 20previous neurons * 20 neurons * 2 kernals + 20 bias\n"
      ],
      "execution_count": 11,
      "outputs": [
        {
          "output_type": "stream",
          "text": [
            "Model: \"sequential_1\"\n",
            "_________________________________________________________________\n",
            "Layer (type)                 Output Shape              Param #   \n",
            "=================================================================\n",
            "conv1d_8 (Conv1D)            (None, None, 20)          60        \n",
            "_________________________________________________________________\n",
            "conv1d_9 (Conv1D)            (None, None, 20)          820       \n",
            "_________________________________________________________________\n",
            "conv1d_10 (Conv1D)           (None, None, 20)          820       \n",
            "_________________________________________________________________\n",
            "conv1d_11 (Conv1D)           (None, None, 20)          820       \n",
            "_________________________________________________________________\n",
            "conv1d_12 (Conv1D)           (None, None, 20)          820       \n",
            "_________________________________________________________________\n",
            "conv1d_13 (Conv1D)           (None, None, 20)          820       \n",
            "_________________________________________________________________\n",
            "conv1d_14 (Conv1D)           (None, None, 20)          820       \n",
            "_________________________________________________________________\n",
            "conv1d_15 (Conv1D)           (None, None, 20)          820       \n",
            "_________________________________________________________________\n",
            "conv1d_16 (Conv1D)           (None, None, 10)          210       \n",
            "=================================================================\n",
            "Total params: 6,010\n",
            "Trainable params: 6,010\n",
            "Non-trainable params: 0\n",
            "_________________________________________________________________\n"
          ],
          "name": "stdout"
        }
      ]
    },
    {
      "cell_type": "code",
      "metadata": {
        "id": "eP5fIH8W9tEV",
        "colab_type": "code",
        "colab": {}
      },
      "source": [
        "def last_time_step_mse(Y_true, Y_pred):\n",
        "    return keras.metrics.mean_squared_error(Y_true[:, -1], Y_pred[:, -1]) # Has to define a special loss"
      ],
      "execution_count": 0,
      "outputs": []
    },
    {
      "cell_type": "code",
      "metadata": {
        "id": "WLQxOLVN_62O",
        "colab_type": "code",
        "colab": {
          "base_uri": "https://localhost:8080/",
          "height": 709
        },
        "outputId": "37b2aa1f-41a0-496f-a030-1f965edd5f37"
      },
      "source": [
        "model.compile(loss=\"mse\", optimizer=\"adam\", metrics=[last_time_step_mse])\n",
        "history = model.fit(X_train, Y_train, epochs=20,\n",
        "                    validation_data=(X_valid, Y_valid))"
      ],
      "execution_count": 13,
      "outputs": [
        {
          "output_type": "stream",
          "text": [
            "Epoch 1/20\n",
            "219/219 [==============================] - 3s 12ms/step - loss: 0.0668 - last_time_step_mse: 0.0543 - val_loss: 0.0365 - val_last_time_step_mse: 0.0230\n",
            "Epoch 2/20\n",
            "219/219 [==============================] - 2s 9ms/step - loss: 0.0323 - last_time_step_mse: 0.0193 - val_loss: 0.0294 - val_last_time_step_mse: 0.0166\n",
            "Epoch 3/20\n",
            "219/219 [==============================] - 2s 9ms/step - loss: 0.0283 - last_time_step_mse: 0.0156 - val_loss: 0.0269 - val_last_time_step_mse: 0.0145\n",
            "Epoch 4/20\n",
            "219/219 [==============================] - 2s 9ms/step - loss: 0.0261 - last_time_step_mse: 0.0136 - val_loss: 0.0254 - val_last_time_step_mse: 0.0130\n",
            "Epoch 5/20\n",
            "219/219 [==============================] - 2s 9ms/step - loss: 0.0248 - last_time_step_mse: 0.0124 - val_loss: 0.0244 - val_last_time_step_mse: 0.0121\n",
            "Epoch 6/20\n",
            "219/219 [==============================] - 2s 9ms/step - loss: 0.0240 - last_time_step_mse: 0.0117 - val_loss: 0.0233 - val_last_time_step_mse: 0.0107\n",
            "Epoch 7/20\n",
            "219/219 [==============================] - 2s 9ms/step - loss: 0.0234 - last_time_step_mse: 0.0112 - val_loss: 0.0231 - val_last_time_step_mse: 0.0109\n",
            "Epoch 8/20\n",
            "219/219 [==============================] - 2s 9ms/step - loss: 0.0227 - last_time_step_mse: 0.0105 - val_loss: 0.0227 - val_last_time_step_mse: 0.0104\n",
            "Epoch 9/20\n",
            "219/219 [==============================] - 2s 9ms/step - loss: 0.0222 - last_time_step_mse: 0.0100 - val_loss: 0.0221 - val_last_time_step_mse: 0.0101\n",
            "Epoch 10/20\n",
            "219/219 [==============================] - 2s 10ms/step - loss: 0.0219 - last_time_step_mse: 0.0099 - val_loss: 0.0213 - val_last_time_step_mse: 0.0091\n",
            "Epoch 11/20\n",
            "219/219 [==============================] - 2s 9ms/step - loss: 0.0213 - last_time_step_mse: 0.0093 - val_loss: 0.0211 - val_last_time_step_mse: 0.0090\n",
            "Epoch 12/20\n",
            "219/219 [==============================] - 2s 9ms/step - loss: 0.0211 - last_time_step_mse: 0.0090 - val_loss: 0.0215 - val_last_time_step_mse: 0.0101\n",
            "Epoch 13/20\n",
            "219/219 [==============================] - 2s 10ms/step - loss: 0.0206 - last_time_step_mse: 0.0087 - val_loss: 0.0202 - val_last_time_step_mse: 0.0081\n",
            "Epoch 14/20\n",
            "219/219 [==============================] - 2s 9ms/step - loss: 0.0203 - last_time_step_mse: 0.0083 - val_loss: 0.0201 - val_last_time_step_mse: 0.0082\n",
            "Epoch 15/20\n",
            "219/219 [==============================] - 2s 9ms/step - loss: 0.0200 - last_time_step_mse: 0.0081 - val_loss: 0.0196 - val_last_time_step_mse: 0.0077\n",
            "Epoch 16/20\n",
            "219/219 [==============================] - 2s 10ms/step - loss: 0.0199 - last_time_step_mse: 0.0080 - val_loss: 0.0197 - val_last_time_step_mse: 0.0080\n",
            "Epoch 17/20\n",
            "219/219 [==============================] - 2s 10ms/step - loss: 0.0196 - last_time_step_mse: 0.0077 - val_loss: 0.0192 - val_last_time_step_mse: 0.0074\n",
            "Epoch 18/20\n",
            "219/219 [==============================] - 2s 10ms/step - loss: 0.0192 - last_time_step_mse: 0.0073 - val_loss: 0.0191 - val_last_time_step_mse: 0.0073\n",
            "Epoch 19/20\n",
            "219/219 [==============================] - 2s 10ms/step - loss: 0.0191 - last_time_step_mse: 0.0072 - val_loss: 0.0187 - val_last_time_step_mse: 0.0069\n",
            "Epoch 20/20\n",
            "219/219 [==============================] - 2s 9ms/step - loss: 0.0189 - last_time_step_mse: 0.0070 - val_loss: 0.0186 - val_last_time_step_mse: 0.0068\n"
          ],
          "name": "stdout"
        }
      ]
    },
    {
      "cell_type": "markdown",
      "metadata": {
        "id": "2fPNWGzGC2Wa",
        "colab_type": "text"
      },
      "source": [
        "Original Wavenet"
      ]
    },
    {
      "cell_type": "code",
      "metadata": {
        "id": "rjaBkcC9AAL4",
        "colab_type": "code",
        "colab": {}
      },
      "source": [
        "class GatedActivationUnit(keras.layers.Layer):\n",
        "    def __init__(self, activation=\"tanh\", **kwargs):\n",
        "        super().__init__(**kwargs)\n",
        "        self.activation = keras.activations.get(activation)\n",
        "    def call(self, inputs):\n",
        "        n_filters = inputs.shape[-1] // 2\n",
        "        linear_output = self.activation(inputs[..., :n_filters])\n",
        "        gate = keras.activations.sigmoid(inputs[..., n_filters:])\n",
        "        return self.activation(linear_output) * gate"
      ],
      "execution_count": 0,
      "outputs": []
    },
    {
      "cell_type": "code",
      "metadata": {
        "id": "rvHem2LgC5ox",
        "colab_type": "code",
        "colab": {}
      },
      "source": [
        "def wavenet_residual_block(inputs, n_filters, dilation_rate):\n",
        "    z = keras.layers.Conv1D(2 * n_filters, kernel_size=2, padding=\"causal\",\n",
        "                            dilation_rate=dilation_rate)(inputs)\n",
        "    z = GatedActivationUnit()(z)\n",
        "    z = keras.layers.Conv1D(n_filters, kernel_size=1)(z)\n",
        "    return keras.layers.Add()([z, inputs]), z"
      ],
      "execution_count": 0,
      "outputs": []
    },
    {
      "cell_type": "code",
      "metadata": {
        "id": "LqWQRzq2DYpI",
        "colab_type": "code",
        "colab": {}
      },
      "source": [
        "keras.backend.clear_session()\n",
        "np.random.seed(42)\n",
        "tf.random.set_seed(42)\n",
        "\n",
        "n_layers_per_block = 3 # 10 in the paper\n",
        "n_blocks = 1 # 3 in the paper\n",
        "n_filters = 32 # 128 in the paper\n",
        "n_outputs = 10 # 256 in the paper\n",
        "\n",
        "inputs = keras.layers.Input(shape=[None, 1])\n",
        "z = keras.layers.Conv1D(n_filters, kernel_size=2, padding=\"causal\")(inputs)\n",
        "skip_to_last = []\n",
        "for dilation_rate in [2**i for i in range(n_layers_per_block)] * n_blocks:\n",
        "    z, skip = wavenet_residual_block(z, n_filters, dilation_rate)\n",
        "    skip_to_last.append(skip)\n",
        "z = keras.activations.relu(keras.layers.Add()(skip_to_last))\n",
        "z = keras.layers.Conv1D(n_filters, kernel_size=1, activation=\"relu\")(z)\n",
        "Y_proba = keras.layers.Conv1D(n_outputs, kernel_size=1, activation=\"softmax\")(z)\n",
        "\n",
        "model = keras.models.Model(inputs=[inputs], outputs=[Y_proba])"
      ],
      "execution_count": 0,
      "outputs": []
    },
    {
      "cell_type": "code",
      "metadata": {
        "id": "RMWmqdLoDlNi",
        "colab_type": "code",
        "colab": {
          "base_uri": "https://localhost:8080/",
          "height": 790
        },
        "outputId": "a6965614-b5fa-475a-fe5f-55aa0d2d4af1"
      },
      "source": [
        "model.summary()"
      ],
      "execution_count": 18,
      "outputs": [
        {
          "output_type": "stream",
          "text": [
            "Model: \"model\"\n",
            "__________________________________________________________________________________________________\n",
            "Layer (type)                    Output Shape         Param #     Connected to                     \n",
            "==================================================================================================\n",
            "input_1 (InputLayer)            [(None, None, 1)]    0                                            \n",
            "__________________________________________________________________________________________________\n",
            "conv1d (Conv1D)                 (None, None, 32)     96          input_1[0][0]                    \n",
            "__________________________________________________________________________________________________\n",
            "conv1d_1 (Conv1D)               (None, None, 64)     4160        conv1d[0][0]                     \n",
            "__________________________________________________________________________________________________\n",
            "gated_activation_unit (GatedAct (None, None, 32)     0           conv1d_1[0][0]                   \n",
            "__________________________________________________________________________________________________\n",
            "conv1d_2 (Conv1D)               (None, None, 32)     1056        gated_activation_unit[0][0]      \n",
            "__________________________________________________________________________________________________\n",
            "add (Add)                       (None, None, 32)     0           conv1d_2[0][0]                   \n",
            "                                                                 conv1d[0][0]                     \n",
            "__________________________________________________________________________________________________\n",
            "conv1d_3 (Conv1D)               (None, None, 64)     4160        add[0][0]                        \n",
            "__________________________________________________________________________________________________\n",
            "gated_activation_unit_1 (GatedA (None, None, 32)     0           conv1d_3[0][0]                   \n",
            "__________________________________________________________________________________________________\n",
            "conv1d_4 (Conv1D)               (None, None, 32)     1056        gated_activation_unit_1[0][0]    \n",
            "__________________________________________________________________________________________________\n",
            "add_1 (Add)                     (None, None, 32)     0           conv1d_4[0][0]                   \n",
            "                                                                 add[0][0]                        \n",
            "__________________________________________________________________________________________________\n",
            "conv1d_5 (Conv1D)               (None, None, 64)     4160        add_1[0][0]                      \n",
            "__________________________________________________________________________________________________\n",
            "gated_activation_unit_2 (GatedA (None, None, 32)     0           conv1d_5[0][0]                   \n",
            "__________________________________________________________________________________________________\n",
            "conv1d_6 (Conv1D)               (None, None, 32)     1056        gated_activation_unit_2[0][0]    \n",
            "__________________________________________________________________________________________________\n",
            "add_3 (Add)                     (None, None, 32)     0           conv1d_2[0][0]                   \n",
            "                                                                 conv1d_4[0][0]                   \n",
            "                                                                 conv1d_6[0][0]                   \n",
            "__________________________________________________________________________________________________\n",
            "tf_op_layer_Relu (TensorFlowOpL [(None, None, 32)]   0           add_3[0][0]                      \n",
            "__________________________________________________________________________________________________\n",
            "conv1d_7 (Conv1D)               (None, None, 32)     1056        tf_op_layer_Relu[0][0]           \n",
            "__________________________________________________________________________________________________\n",
            "conv1d_8 (Conv1D)               (None, None, 10)     330         conv1d_7[0][0]                   \n",
            "==================================================================================================\n",
            "Total params: 17,130\n",
            "Trainable params: 17,130\n",
            "Non-trainable params: 0\n",
            "__________________________________________________________________________________________________\n"
          ],
          "name": "stdout"
        }
      ]
    },
    {
      "cell_type": "code",
      "metadata": {
        "id": "EbqjlofYDegq",
        "colab_type": "code",
        "colab": {
          "base_uri": "https://localhost:8080/",
          "height": 104
        },
        "outputId": "eeb48d99-065a-4f7d-e365-d065057357de"
      },
      "source": [
        "model.compile(loss=\"mse\", optimizer=\"adam\", metrics=[last_time_step_mse])\n",
        "history = model.fit(X_train, Y_train, epochs=2,\n",
        "                    validation_data=(X_valid, Y_valid))"
      ],
      "execution_count": 17,
      "outputs": [
        {
          "output_type": "stream",
          "text": [
            "Epoch 1/2\n",
            "219/219 [==============================] - 3s 12ms/step - loss: 0.1300 - last_time_step_mse: 0.1260 - val_loss: 0.1229 - val_last_time_step_mse: 0.1199\n",
            "Epoch 2/2\n",
            "219/219 [==============================] - 2s 10ms/step - loss: 0.1222 - last_time_step_mse: 0.1178 - val_loss: 0.1217 - val_last_time_step_mse: 0.1189\n"
          ],
          "name": "stdout"
        }
      ]
    },
    {
      "cell_type": "code",
      "metadata": {
        "id": "1whTRb1nDjTx",
        "colab_type": "code",
        "colab": {}
      },
      "source": [
        ""
      ],
      "execution_count": 0,
      "outputs": []
    }
  ]
}