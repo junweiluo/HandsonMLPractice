{
 "cells": [
  {
   "cell_type": "code",
   "execution_count": 58,
   "metadata": {},
   "outputs": [],
   "source": [
    "import numpy as np\n",
    "import os\n",
    "root_logdir = os.path.join(os.curdir, \"my_logs\")"
   ]
  },
  {
   "cell_type": "code",
   "execution_count": 59,
   "metadata": {},
   "outputs": [
    {
     "data": {
      "text/plain": [
       "'./my_logs/run_2020_04_30-22_10_42'"
      ]
     },
     "execution_count": 59,
     "metadata": {},
     "output_type": "execute_result"
    }
   ],
   "source": [
    "def get_run_logdir():\n",
    "    import time\n",
    "    run_id = time.strftime(\"run_%Y_%m_%d-%H_%M_%S\")\n",
    "    return os.path.join(root_logdir, run_id)\n",
    "\n",
    "run_logdir = get_run_logdir()\n",
    "run_logdir"
   ]
  },
  {
   "cell_type": "code",
   "execution_count": 60,
   "metadata": {},
   "outputs": [],
   "source": [
    "keras.backend.clear_session()\n",
    "np.random.seed(42)\n",
    "tf.random.set_seed(42)"
   ]
  },
  {
   "cell_type": "code",
   "execution_count": 61,
   "metadata": {},
   "outputs": [],
   "source": [
    "model = keras.models.Sequential([\n",
    "    keras.layers.Dense(30, activation=\"relu\", input_shape=[8]),\n",
    "    keras.layers.Dense(30, activation=\"relu\"),\n",
    "    keras.layers.Dense(1)\n",
    "])    \n",
    "model.compile(loss=\"mse\", optimizer=keras.optimizers.SGD(lr=1e-3))"
   ]
  },
  {
   "cell_type": "code",
   "execution_count": 62,
   "metadata": {},
   "outputs": [],
   "source": [
    "checkpoint_cb = keras.callbacks.ModelCheckpoint(\"my_keras_model.h5\", save_best_only=True)\n"
   ]
  },
  {
   "cell_type": "code",
   "execution_count": 63,
   "metadata": {},
   "outputs": [
    {
     "name": "stdout",
     "output_type": "stream",
     "text": [
      "Train on 11610 samples, validate on 3870 samples\n",
      "Epoch 1/30\n",
      "11610/11610 [==============================] - 1s 99us/sample - loss: 1.8766 - val_loss: 0.8114\n",
      "Epoch 2/30\n",
      "11610/11610 [==============================] - 1s 47us/sample - loss: 0.6723 - val_loss: 0.6588\n",
      "Epoch 3/30\n",
      "11610/11610 [==============================] - 1s 47us/sample - loss: 0.6069 - val_loss: 0.6142\n",
      "Epoch 4/30\n",
      "11610/11610 [==============================] - 1s 48us/sample - loss: 0.5739 - val_loss: 0.5837\n",
      "Epoch 5/30\n",
      "11610/11610 [==============================] - 1s 68us/sample - loss: 0.5489 - val_loss: 0.5619\n",
      "Epoch 6/30\n",
      "11610/11610 [==============================] - 1s 51us/sample - loss: 0.5293 - val_loss: 0.5440\n",
      "Epoch 7/30\n",
      "11610/11610 [==============================] - 1s 74us/sample - loss: 0.5138 - val_loss: 0.5297\n",
      "Epoch 8/30\n",
      "11610/11610 [==============================] - 1s 54us/sample - loss: 0.5006 - val_loss: 0.5169\n",
      "Epoch 9/30\n",
      "11610/11610 [==============================] - 1s 65us/sample - loss: 0.4917 - val_loss: 0.5080\n",
      "Epoch 10/30\n",
      "11610/11610 [==============================] - 1s 47us/sample - loss: 0.4828 - val_loss: 0.5000\n",
      "Epoch 11/30\n",
      "11610/11610 [==============================] - 1s 47us/sample - loss: 0.4755 - val_loss: 0.4941\n",
      "Epoch 12/30\n",
      "11610/11610 [==============================] - 1s 54us/sample - loss: 0.4693 - val_loss: 0.4876\n",
      "Epoch 13/30\n",
      "11610/11610 [==============================] - 1s 51us/sample - loss: 0.4641 - val_loss: 0.4830\n",
      "Epoch 14/30\n",
      "11610/11610 [==============================] - 1s 47us/sample - loss: 0.4590 - val_loss: 0.4778\n",
      "Epoch 15/30\n",
      "11610/11610 [==============================] - 1s 46us/sample - loss: 0.4545 - val_loss: 0.4735\n",
      "Epoch 16/30\n",
      "11610/11610 [==============================] - 1s 47us/sample - loss: 0.4506 - val_loss: 0.4704\n",
      "Epoch 17/30\n",
      "11610/11610 [==============================] - 1s 47us/sample - loss: 0.4464 - val_loss: 0.4663\n",
      "Epoch 18/30\n",
      "11610/11610 [==============================] - 1s 46us/sample - loss: 0.4431 - val_loss: 0.4624\n",
      "Epoch 19/30\n",
      "11610/11610 [==============================] - 1s 47us/sample - loss: 0.4394 - val_loss: 0.4597\n",
      "Epoch 20/30\n",
      "11610/11610 [==============================] - 1s 47us/sample - loss: 0.4360 - val_loss: 0.4582\n",
      "Epoch 21/30\n",
      "11610/11610 [==============================] - 1s 47us/sample - loss: 0.4334 - val_loss: 0.4563\n",
      "Epoch 22/30\n",
      "11610/11610 [==============================] - 1s 49us/sample - loss: 0.4300 - val_loss: 0.4531\n",
      "Epoch 23/30\n",
      "11610/11610 [==============================] - 1s 46us/sample - loss: 0.4280 - val_loss: 0.4490\n",
      "Epoch 24/30\n",
      "11610/11610 [==============================] - 1s 54us/sample - loss: 0.4250 - val_loss: 0.4480\n",
      "Epoch 25/30\n",
      "11610/11610 [==============================] - 1s 63us/sample - loss: 0.4229 - val_loss: 0.4450\n",
      "Epoch 26/30\n",
      "11610/11610 [==============================] - 1s 51us/sample - loss: 0.4202 - val_loss: 0.4433\n",
      "Epoch 27/30\n",
      "11610/11610 [==============================] - 1s 48us/sample - loss: 0.4179 - val_loss: 0.4402\n",
      "Epoch 28/30\n",
      "11610/11610 [==============================] - 1s 46us/sample - loss: 0.4160 - val_loss: 0.4385\n",
      "Epoch 29/30\n",
      "11610/11610 [==============================] - 1s 50us/sample - loss: 0.4137 - val_loss: 0.4374\n",
      "Epoch 30/30\n",
      "11610/11610 [==============================] - 1s 49us/sample - loss: 0.4117 - val_loss: 0.4345\n"
     ]
    }
   ],
   "source": [
    "tensorboard_cb = keras.callbacks.TensorBoard(run_logdir)\n",
    "history = model.fit(X_train, y_train, epochs=30,\n",
    "                    validation_data=(X_valid, y_valid),\n",
    "                    callbacks=[checkpoint_cb, tensorboard_cb])"
   ]
  },
  {
   "cell_type": "code",
   "execution_count": 66,
   "metadata": {},
   "outputs": [
    {
     "name": "stdout",
     "output_type": "stream",
     "text": [
      "The tensorboard.notebook extension is already loaded. To reload it, use:\n",
      "  %reload_ext tensorboard.notebook\n"
     ]
    },
    {
     "data": {
      "text/plain": [
       "Reusing TensorBoard on port 6006 (pid 78674), started -1 day, 23:35:50 ago. (Use '!kill 78674' to kill it.)"
      ]
     },
     "metadata": {},
     "output_type": "display_data"
    },
    {
     "data": {
      "text/html": [
       "\n",
       "        <iframe\n",
       "            width=\"100%\"\n",
       "            height=\"800\"\n",
       "            src=\"http://localhost:6006\"\n",
       "            frameborder=\"0\"\n",
       "            allowfullscreen\n",
       "        ></iframe>\n",
       "        "
      ],
      "text/plain": [
       "<IPython.lib.display.IFrame at 0x11bee6b10>"
      ]
     },
     "metadata": {},
     "output_type": "display_data"
    }
   ],
   "source": [
    "%load_ext tensorboard.notebook\n",
    "%tensorboard --logdir=./my_logs --port=6006"
   ]
  },
  {
   "cell_type": "code",
   "execution_count": null,
   "metadata": {},
   "outputs": [],
   "source": []
  },
  {
   "cell_type": "code",
   "execution_count": 67,
   "metadata": {},
   "outputs": [],
   "source": [
    "from sklearn.datasets import fetch_california_housing\n",
    "from sklearn.model_selection import train_test_split\n",
    "from sklearn.preprocessing import StandardScaler"
   ]
  },
  {
   "cell_type": "code",
   "execution_count": 68,
   "metadata": {},
   "outputs": [],
   "source": [
    "housing = fetch_california_housing()"
   ]
  },
  {
   "cell_type": "code",
   "execution_count": 69,
   "metadata": {},
   "outputs": [
    {
     "data": {
      "text/plain": [
       "array([[ 8.3300e+00,  4.1000e+01,  6.9800e+00,  1.0200e+00,  3.2200e+02,\n",
       "         2.5600e+00,  3.7880e+01, -1.2223e+02],\n",
       "       [ 8.3000e+00,  2.1000e+01,  6.2400e+00,  9.7000e-01,  2.4010e+03,\n",
       "         2.1100e+00,  3.7860e+01, -1.2222e+02],\n",
       "       [ 7.2600e+00,  5.2000e+01,  8.2900e+00,  1.0700e+00,  4.9600e+02,\n",
       "         2.8000e+00,  3.7850e+01, -1.2224e+02]])"
      ]
     },
     "execution_count": 69,
     "metadata": {},
     "output_type": "execute_result"
    }
   ],
   "source": [
    "housing['data'][:3].round(2)"
   ]
  },
  {
   "cell_type": "code",
   "execution_count": 70,
   "metadata": {},
   "outputs": [],
   "source": [
    "X_train_full, X_test, y_train_full, y_test = train_test_split(housing.data, housing.target)\n",
    "X_train, X_valid, y_train, y_valid = train_test_split(X_train_full, y_train_full)"
   ]
  },
  {
   "cell_type": "code",
   "execution_count": 71,
   "metadata": {},
   "outputs": [],
   "source": [
    "scaler = StandardScaler()"
   ]
  },
  {
   "cell_type": "code",
   "execution_count": 72,
   "metadata": {},
   "outputs": [],
   "source": [
    "X_train = scaler.fit_transform(X_train)\n",
    "X_valid = scaler.transform(X_valid)\n",
    "X_test = scaler.transform(X_test)"
   ]
  },
  {
   "cell_type": "code",
   "execution_count": 73,
   "metadata": {},
   "outputs": [],
   "source": [
    "import tensorflow as tf\n",
    "from tensorflow import keras\n",
    "#from keras import layers\n",
    "from keras.models import Model\n",
    "# from keras.models import Model # this is same\n",
    "from keras.layers import Dense, Input, concatenate\n",
    "from keras import layers\n",
    "from keras import models\n",
    "# this concatenate is different from merge.Concatenate"
   ]
  },
  {
   "cell_type": "code",
   "execution_count": 74,
   "metadata": {},
   "outputs": [
    {
     "data": {
      "text/plain": [
       "(11610, 8)"
      ]
     },
     "execution_count": 74,
     "metadata": {},
     "output_type": "execute_result"
    }
   ],
   "source": [
    "X_train.shape"
   ]
  },
  {
   "cell_type": "code",
   "execution_count": 75,
   "metadata": {},
   "outputs": [],
   "source": [
    "#better specify all tracks of functions in keras\n",
    "input_A = keras.layers.Input(shape=[5], name=\"wide_input\")\n",
    "input_B = keras.layers.Input(shape=[6], name=\"deep_input\")\n",
    "hidden1 = keras.layers.Dense(30, activation=\"relu\")(input_B)\n",
    "hidden2 = keras.layers.Dense(30, activation=\"relu\")(hidden1)\n",
    "concat = keras.layers.Concatenate()([input_A, hidden2])\n",
    "output = keras.layers.Dense(1, name=\"output\")(concat)\n",
    "aux_output = keras.layers.Dense(1, name='aux_output')(hidden2)\n",
    "model = keras.models.Model(inputs=[input_A, input_B], outputs=[output, aux_output])"
   ]
  },
  {
   "cell_type": "code",
   "execution_count": 76,
   "metadata": {},
   "outputs": [
    {
     "name": "stdout",
     "output_type": "stream",
     "text": [
      "Model: \"model\"\n",
      "__________________________________________________________________________________________________\n",
      "Layer (type)                    Output Shape         Param #     Connected to                     \n",
      "==================================================================================================\n",
      "deep_input (InputLayer)         [(None, 6)]          0                                            \n",
      "__________________________________________________________________________________________________\n",
      "dense_3 (Dense)                 (None, 30)           210         deep_input[0][0]                 \n",
      "__________________________________________________________________________________________________\n",
      "wide_input (InputLayer)         [(None, 5)]          0                                            \n",
      "__________________________________________________________________________________________________\n",
      "dense_4 (Dense)                 (None, 30)           930         dense_3[0][0]                    \n",
      "__________________________________________________________________________________________________\n",
      "concatenate (Concatenate)       (None, 35)           0           wide_input[0][0]                 \n",
      "                                                                 dense_4[0][0]                    \n",
      "__________________________________________________________________________________________________\n",
      "output (Dense)                  (None, 1)            36          concatenate[0][0]                \n",
      "__________________________________________________________________________________________________\n",
      "aux_output (Dense)              (None, 1)            31          dense_4[0][0]                    \n",
      "==================================================================================================\n",
      "Total params: 1,207\n",
      "Trainable params: 1,207\n",
      "Non-trainable params: 0\n",
      "__________________________________________________________________________________________________\n"
     ]
    }
   ],
   "source": [
    "model.summary()"
   ]
  },
  {
   "cell_type": "code",
   "execution_count": 77,
   "metadata": {},
   "outputs": [],
   "source": [
    "model.compile(loss = ['mean_squared_error','mean_squared_error'], optimizer='adam', loss_weights=[0.9,0.1]) #, metrics=['accuracy','accuracy']) # adam or sgd"
   ]
  },
  {
   "cell_type": "code",
   "execution_count": 78,
   "metadata": {},
   "outputs": [],
   "source": [
    "X_train_A, X_train_B = X_train[:, :5], X_train[:, 2:]\n",
    "X_valid_A, X_valid_B = X_valid[:, :5], X_valid[:, 2:]\n",
    "X_test_A, X_test_B = X_test[:, :5], X_test[:, 2:]\n",
    "X_new_A, X_new_B = X_test_A[:3], X_test_B[:3]"
   ]
  },
  {
   "cell_type": "code",
   "execution_count": 79,
   "metadata": {},
   "outputs": [],
   "source": [
    "#checkpoint_cb = keras.callbacks.ModelCheckpoint(\"my_keras_model_callback.h5\")\n",
    "#early_stopping_cb = keras.callbacks.EarlyStopping(patience=5, restore_best_weights=True)\n",
    "tensorboard_cb = keras.callbacks.TensorBoard(run_logdir)"
   ]
  },
  {
   "cell_type": "code",
   "execution_count": 80,
   "metadata": {},
   "outputs": [
    {
     "name": "stdout",
     "output_type": "stream",
     "text": [
      "Train on 11610 samples, validate on 3870 samples\n",
      "Epoch 1/10\n",
      "11610/11610 [==============================] - 2s 134us/sample - loss: 1.2808 - output_loss: 1.2052 - aux_output_loss: 1.9565 - val_loss: 0.6176 - val_output_loss: 0.5763 - val_aux_output_loss: 0.9883\n",
      "Epoch 2/10\n",
      "11610/11610 [==============================] - 1s 94us/sample - loss: 0.5227 - output_loss: 0.4929 - aux_output_loss: 0.7902 - val_loss: 0.4817 - val_output_loss: 0.4569 - val_aux_output_loss: 0.7042\n",
      "Epoch 3/10\n",
      "11610/11610 [==============================] - 1s 59us/sample - loss: 0.4474 - output_loss: 0.4269 - aux_output_loss: 0.6326 - val_loss: 0.4568 - val_output_loss: 0.4371 - val_aux_output_loss: 0.6333\n",
      "Epoch 4/10\n",
      "11610/11610 [==============================] - 1s 60us/sample - loss: 0.4195 - output_loss: 0.4022 - aux_output_loss: 0.5741 - val_loss: 0.4333 - val_output_loss: 0.4160 - val_aux_output_loss: 0.5879\n",
      "Epoch 5/10\n",
      "11610/11610 [==============================] - 1s 58us/sample - loss: 0.4009 - output_loss: 0.3858 - aux_output_loss: 0.5377 - val_loss: 0.4346 - val_output_loss: 0.4195 - val_aux_output_loss: 0.5694\n",
      "Epoch 6/10\n",
      "11610/11610 [==============================] - 1s 58us/sample - loss: 0.3923 - output_loss: 0.3786 - aux_output_loss: 0.5150 - val_loss: 0.4148 - val_output_loss: 0.4008 - val_aux_output_loss: 0.5399\n",
      "Epoch 7/10\n",
      "11610/11610 [==============================] - 1s 59us/sample - loss: 0.3821 - output_loss: 0.3697 - aux_output_loss: 0.4929 - val_loss: 0.4319 - val_output_loss: 0.4156 - val_aux_output_loss: 0.5771\n",
      "Epoch 8/10\n",
      "11610/11610 [==============================] - 1s 61us/sample - loss: 0.3778 - output_loss: 0.3666 - aux_output_loss: 0.4782 - val_loss: 0.4026 - val_output_loss: 0.3893 - val_aux_output_loss: 0.5210\n",
      "Epoch 9/10\n",
      "11610/11610 [==============================] - 1s 61us/sample - loss: 0.3656 - output_loss: 0.3550 - aux_output_loss: 0.4619 - val_loss: 0.3947 - val_output_loss: 0.3828 - val_aux_output_loss: 0.5007\n",
      "Epoch 10/10\n",
      "11610/11610 [==============================] - 1s 60us/sample - loss: 0.3585 - output_loss: 0.3488 - aux_output_loss: 0.4454 - val_loss: 0.3902 - val_output_loss: 0.3794 - val_aux_output_loss: 0.4867\n"
     ]
    }
   ],
   "source": [
    "history = model.fit((X_train_A, X_train_B), (y_train, y_train), epochs=10, \n",
    "                    validation_data=((X_valid_A, X_valid_B), (y_valid, y_valid)),callbacks=[tensorboard_cb]) \n",
    "                    #callbacks=[checkpoint_cb]) #, early_stopping_cb])\n",
    "# set up checkpoints for callback; no early stopping"
   ]
  },
  {
   "cell_type": "code",
   "execution_count": 81,
   "metadata": {},
   "outputs": [
    {
     "name": "stdout",
     "output_type": "stream",
     "text": [
      "5160/5160 [==============================] - 0s 25us/sample - loss: 0.3646 - output_loss: 0.3555 - aux_output_loss: 0.4425\n"
     ]
    }
   ],
   "source": [
    "total_loss, main_loss, aux_loss = model.evaluate([X_test_A, X_test_B], [y_test, y_test])"
   ]
  },
  {
   "cell_type": "code",
   "execution_count": 82,
   "metadata": {},
   "outputs": [],
   "source": [
    "import tensorflow as tf\n",
    "import datetime, os"
   ]
  },
  {
   "cell_type": "code",
   "execution_count": 83,
   "metadata": {},
   "outputs": [
    {
     "name": "stdout",
     "output_type": "stream",
     "text": [
      "The tensorboard.notebook extension is already loaded. To reload it, use:\n",
      "  %reload_ext tensorboard.notebook\n"
     ]
    }
   ],
   "source": [
    "%load_ext tensorboard.notebook"
   ]
  },
  {
   "cell_type": "code",
   "execution_count": 84,
   "metadata": {},
   "outputs": [
    {
     "data": {
      "text/plain": [
       "Reusing TensorBoard on port 6006 (pid 78674), started -1 day, 23:40:47 ago. (Use '!kill 78674' to kill it.)"
      ]
     },
     "metadata": {},
     "output_type": "display_data"
    },
    {
     "data": {
      "text/html": [
       "\n",
       "        <iframe\n",
       "            width=\"100%\"\n",
       "            height=\"800\"\n",
       "            src=\"http://localhost:6006\"\n",
       "            frameborder=\"0\"\n",
       "            allowfullscreen\n",
       "        ></iframe>\n",
       "        "
      ],
      "text/plain": [
       "<IPython.lib.display.IFrame at 0x13e2579d0>"
      ]
     },
     "metadata": {},
     "output_type": "display_data"
    }
   ],
   "source": [
    "%tensorboard --logdir=./my_logs --port=6006"
   ]
  },
  {
   "cell_type": "code",
   "execution_count": 33,
   "metadata": {},
   "outputs": [
    {
     "data": {
      "text/plain": [
       "'./my_logs/run_2020_04_30-21_36_46'"
      ]
     },
     "execution_count": 33,
     "metadata": {},
     "output_type": "execute_result"
    }
   ],
   "source": [
    "run_logdir2 = get_run_logdir()\n",
    "run_logdir2"
   ]
  },
  {
   "cell_type": "code",
   "execution_count": 22,
   "metadata": {},
   "outputs": [
    {
     "data": {
      "text/plain": [
       "0.3288435168968615"
      ]
     },
     "execution_count": 22,
     "metadata": {},
     "output_type": "execute_result"
    }
   ],
   "source": [
    "total_loss  # to compare to validation result"
   ]
  },
  {
   "cell_type": "code",
   "execution_count": 23,
   "metadata": {},
   "outputs": [],
   "source": [
    "y_pred_main, y_pred_aux = model.predict([X_new_A, X_new_B])"
   ]
  },
  {
   "cell_type": "code",
   "execution_count": 24,
   "metadata": {},
   "outputs": [
    {
     "data": {
      "text/plain": [
       "(array([[1.2123033],\n",
       "        [1.8997341],\n",
       "        [1.0523994]], dtype=float32), array([[1.322043 ],\n",
       "        [2.065783 ],\n",
       "        [1.1524274]], dtype=float32))"
      ]
     },
     "execution_count": 24,
     "metadata": {},
     "output_type": "execute_result"
    }
   ],
   "source": [
    "y_pred_main, y_pred_aux"
   ]
  },
  {
   "cell_type": "code",
   "execution_count": 25,
   "metadata": {},
   "outputs": [],
   "source": [
    "model.save(\"my_keras_modelEx13.h5\")"
   ]
  },
  {
   "cell_type": "code",
   "execution_count": null,
   "metadata": {},
   "outputs": [],
   "source": []
  },
  {
   "cell_type": "code",
   "execution_count": null,
   "metadata": {},
   "outputs": [],
   "source": [
    "keras.optimizers.  # check all availabe optimizers."
   ]
  },
  {
   "cell_type": "code",
   "execution_count": null,
   "metadata": {},
   "outputs": [],
   "source": [
    "keras.losses.    # check all available loss functions."
   ]
  },
  {
   "cell_type": "code",
   "execution_count": null,
   "metadata": {},
   "outputs": [],
   "source": [
    "keras.metrics.  # check all available metrics."
   ]
  },
  {
   "cell_type": "code",
   "execution_count": null,
   "metadata": {},
   "outputs": [],
   "source": []
  }
 ],
 "metadata": {
  "kernelspec": {
   "display_name": "Python 3",
   "language": "python",
   "name": "python3"
  },
  "language_info": {
   "codemirror_mode": {
    "name": "ipython",
    "version": 3
   },
   "file_extension": ".py",
   "mimetype": "text/x-python",
   "name": "python",
   "nbconvert_exporter": "python",
   "pygments_lexer": "ipython3",
   "version": "3.7.4"
  }
 },
 "nbformat": 4,
 "nbformat_minor": 4
}
