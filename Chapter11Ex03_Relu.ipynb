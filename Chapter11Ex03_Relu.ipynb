{
 "cells": [
  {
   "cell_type": "code",
   "execution_count": 8,
   "metadata": {},
   "outputs": [],
   "source": [
    "import tensorflow as tf\n",
    "from tensorflow import keras\n",
    "import numpy as np"
   ]
  },
  {
   "cell_type": "code",
   "execution_count": 9,
   "metadata": {},
   "outputs": [],
   "source": [
    "(X_train_full, y_train_full), (X_test, y_test) = keras.datasets.fashion_mnist.load_data()\n",
    "X_train_full = X_train_full / 255.0\n",
    "X_test = X_test / 255.0\n",
    "X_valid, X_train = X_train_full[:5000], X_train_full[5000:]\n",
    "y_valid, y_train = y_train_full[:5000], y_train_full[5000:]"
   ]
  },
  {
   "cell_type": "code",
   "execution_count": 10,
   "metadata": {},
   "outputs": [],
   "source": [
    "tf.random.set_seed(42)\n",
    "np.random.seed(42)\n",
    "\n",
    "model = keras.models.Sequential([\n",
    "    keras.layers.Flatten(input_shape=[28, 28]),\n",
    "    keras.layers.Dense(300, kernel_initializer=\"he_normal\", activation=\"relu\"),\n",
    "    #keras.layers.PReLU(),\n",
    "    keras.layers.Dense(100, kernel_initializer=\"he_normal\"),\n",
    "    keras.layers.LeakyReLU(),\n",
    "    keras.layers.Dense(10, activation=\"softmax\")\n",
    "])"
   ]
  },
  {
   "cell_type": "code",
   "execution_count": 11,
   "metadata": {},
   "outputs": [
    {
     "data": {
      "text/plain": [
       "tensorflow.python.keras.layers.advanced_activations.PReLU"
      ]
     },
     "execution_count": 11,
     "metadata": {},
     "output_type": "execute_result"
    }
   ],
   "source": [
    "keras.layers.PReLU"
   ]
  },
  {
   "cell_type": "code",
   "execution_count": 12,
   "metadata": {},
   "outputs": [],
   "source": [
    "model.compile(loss=\"sparse_categorical_crossentropy\",\n",
    "              optimizer=keras.optimizers.SGD(lr=1e-3),\n",
    "              metrics=[\"accuracy\"])"
   ]
  },
  {
   "cell_type": "code",
   "execution_count": 13,
   "metadata": {},
   "outputs": [
    {
     "name": "stdout",
     "output_type": "stream",
     "text": [
      "Train on 55000 samples, validate on 5000 samples\n",
      "Epoch 1/10\n",
      "55000/55000 [==============================] - 5s 86us/sample - loss: 1.3227 - accuracy: 0.6170 - val_loss: 0.9022 - val_accuracy: 0.7182\n",
      "Epoch 2/10\n",
      "55000/55000 [==============================] - 4s 74us/sample - loss: 0.8025 - accuracy: 0.7397 - val_loss: 0.7155 - val_accuracy: 0.7646\n",
      "Epoch 3/10\n",
      "55000/55000 [==============================] - 5s 83us/sample - loss: 0.6836 - accuracy: 0.7738 - val_loss: 0.6385 - val_accuracy: 0.7898\n",
      "Epoch 4/10\n",
      "55000/55000 [==============================] - 10s 176us/sample - loss: 0.6220 - accuracy: 0.7951 - val_loss: 0.5922 - val_accuracy: 0.8046\n",
      "Epoch 5/10\n",
      "55000/55000 [==============================] - 5s 88us/sample - loss: 0.5818 - accuracy: 0.8077 - val_loss: 0.5589 - val_accuracy: 0.8184\n",
      "Epoch 6/10\n",
      "55000/55000 [==============================] - 6s 100us/sample - loss: 0.5534 - accuracy: 0.8163 - val_loss: 0.5330 - val_accuracy: 0.8232\n",
      "Epoch 7/10\n",
      "55000/55000 [==============================] - 4s 74us/sample - loss: 0.5317 - accuracy: 0.8231 - val_loss: 0.5146 - val_accuracy: 0.8284\n",
      "Epoch 8/10\n",
      "55000/55000 [==============================] - 5s 87us/sample - loss: 0.5150 - accuracy: 0.8268 - val_loss: 0.5020 - val_accuracy: 0.8338\n",
      "Epoch 9/10\n",
      "55000/55000 [==============================] - 4s 77us/sample - loss: 0.5015 - accuracy: 0.8307 - val_loss: 0.4866 - val_accuracy: 0.8380\n",
      "Epoch 10/10\n",
      "55000/55000 [==============================] - 4s 69us/sample - loss: 0.4896 - accuracy: 0.8340 - val_loss: 0.4795 - val_accuracy: 0.8410\n"
     ]
    }
   ],
   "source": [
    "history = model.fit(X_train, y_train, epochs=10,\n",
    "                    validation_data=(X_valid, y_valid))"
   ]
  },
  {
   "cell_type": "code",
   "execution_count": null,
   "metadata": {},
   "outputs": [],
   "source": []
  }
 ],
 "metadata": {
  "kernelspec": {
   "display_name": "Python 3",
   "language": "python",
   "name": "python3"
  },
  "language_info": {
   "codemirror_mode": {
    "name": "ipython",
    "version": 3
   },
   "file_extension": ".py",
   "mimetype": "text/x-python",
   "name": "python",
   "nbconvert_exporter": "python",
   "pygments_lexer": "ipython3",
   "version": "3.7.4"
  }
 },
 "nbformat": 4,
 "nbformat_minor": 4
}
