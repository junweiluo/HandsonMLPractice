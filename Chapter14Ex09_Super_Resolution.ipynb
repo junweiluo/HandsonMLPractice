{
  "nbformat": 4,
  "nbformat_minor": 0,
  "metadata": {
    "colab": {
      "name": "Chapter14Ex09_Super_Resolution.ipynb",
      "provenance": [],
      "authorship_tag": "ABX9TyO5xb9uqaPI72OxGQa/iefd",
      "include_colab_link": true
    },
    "kernelspec": {
      "name": "python3",
      "display_name": "Python 3"
    }
  },
  "cells": [
    {
      "cell_type": "markdown",
      "metadata": {
        "id": "view-in-github",
        "colab_type": "text"
      },
      "source": [
        "<a href=\"https://colab.research.google.com/github/junweiluo/HandsonMLPractice/blob/master/Chapter14Ex09_Super_Resolution.ipynb\" target=\"_parent\"><img src=\"https://colab.research.google.com/assets/colab-badge.svg\" alt=\"Open In Colab\"/></a>"
      ]
    },
    {
      "cell_type": "markdown",
      "metadata": {
        "id": "x2qePnrj7r2E",
        "colab_type": "text"
      },
      "source": [
        "The motivation is to upsample a low-resolution picture to a high-resolution one.\n",
        "One idea is to train an autoencoder and use only the second half of the model?\n",
        "Or use a high resolution picture to Conv2D to a lower solution one and then train a supervised Conv2DTranspose model."
      ]
    },
    {
      "cell_type": "markdown",
      "metadata": {
        "id": "8cBr9zQi8zrz",
        "colab_type": "text"
      },
      "source": [
        ""
      ]
    },
    {
      "cell_type": "code",
      "metadata": {
        "id": "S9R1TCAL7kDs",
        "colab_type": "code",
        "colab": {}
      },
      "source": [
        ""
      ],
      "execution_count": 0,
      "outputs": []
    }
  ]
}