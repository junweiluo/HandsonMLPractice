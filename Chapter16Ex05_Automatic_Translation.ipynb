{
  "nbformat": 4,
  "nbformat_minor": 0,
  "metadata": {
    "colab": {
      "name": "Chapter16Ex05_Automatic_Translation.ipynb",
      "provenance": [],
      "authorship_tag": "ABX9TyOvysgko6EkXuyOOGAhyhwi",
      "include_colab_link": true
    },
    "kernelspec": {
      "name": "python3",
      "display_name": "Python 3"
    },
    "accelerator": "GPU"
  },
  "cells": [
    {
      "cell_type": "markdown",
      "metadata": {
        "id": "view-in-github",
        "colab_type": "text"
      },
      "source": [
        "<a href=\"https://colab.research.google.com/github/junweiluo/HandsonMLPractice/blob/master/Chapter16Ex05_Automatic_Translation.ipynb\" target=\"_parent\"><img src=\"https://colab.research.google.com/assets/colab-badge.svg\" alt=\"Open In Colab\"/></a>"
      ]
    },
    {
      "cell_type": "code",
      "metadata": {
        "id": "0INkDSOwWTZS",
        "colab_type": "code",
        "colab": {
          "base_uri": "https://localhost:8080/",
          "height": 105
        },
        "outputId": "52983130-7212-4495-b65c-8494dbf79b82"
      },
      "source": [
        "# Python ≥3.5 is required\n",
        "import sys\n",
        "assert sys.version_info >= (3, 5)\n",
        "\n",
        "# Scikit-Learn ≥0.20 is required\n",
        "import sklearn\n",
        "assert sklearn.__version__ >= \"0.20\"\n",
        "\n",
        "try:\n",
        "    # %tensorflow_version only exists in Colab.\n",
        "    %tensorflow_version 2.x\n",
        "    !pip install -q -U tensorflow-addons\n",
        "    IS_COLAB = True\n",
        "except Exception:\n",
        "    IS_COLAB = False\n",
        "\n",
        "# TensorFlow ≥2.0 is required\n",
        "import tensorflow as tf\n",
        "from tensorflow import keras\n",
        "assert tf.__version__ >= \"2.0\"\n",
        "\n",
        "if not tf.test.is_gpu_available():\n",
        "    print(\"No GPU was detected. LSTMs and CNNs can be very slow without a GPU.\")\n",
        "    if IS_COLAB:\n",
        "        print(\"Go to Runtime > Change runtime and select a GPU hardware accelerator.\")\n",
        "\n",
        "# Common imports\n",
        "import numpy as np\n",
        "import os\n",
        "\n",
        "# to make this notebook's output stable across runs\n",
        "np.random.seed(42)\n",
        "tf.random.set_seed(42)\n",
        "\n",
        "# To plot pretty figures\n",
        "%matplotlib inline\n",
        "import matplotlib as mpl\n",
        "import matplotlib.pyplot as plt\n",
        "mpl.rc('axes', labelsize=14)\n",
        "mpl.rc('xtick', labelsize=12)\n",
        "mpl.rc('ytick', labelsize=12)\n",
        "\n",
        "# Where to save the figures\n",
        "PROJECT_ROOT_DIR = \".\"\n",
        "CHAPTER_ID = \"nlp\"\n",
        "IMAGES_PATH = os.path.join(PROJECT_ROOT_DIR, \"images\", CHAPTER_ID)\n",
        "os.makedirs(IMAGES_PATH, exist_ok=True)\n",
        "\n",
        "def save_fig(fig_id, tight_layout=True, fig_extension=\"png\", resolution=300):\n",
        "    path = os.path.join(IMAGES_PATH, fig_id + \".\" + fig_extension)\n",
        "    print(\"Saving figure\", fig_id)\n",
        "    if tight_layout:\n",
        "        plt.tight_layout()\n",
        "    plt.savefig(path, format=fig_extension, dpi=resolution)"
      ],
      "execution_count": 1,
      "outputs": [
        {
          "output_type": "stream",
          "text": [
            "\u001b[?25l\r\u001b[K     |▎                               | 10kB 28.3MB/s eta 0:00:01\r\u001b[K     |▋                               | 20kB 36.2MB/s eta 0:00:01\r\u001b[K     |█                               | 30kB 39.9MB/s eta 0:00:01\r\u001b[K     |█▎                              | 40kB 40.9MB/s eta 0:00:01\r\u001b[K     |█▋                              | 51kB 40.8MB/s eta 0:00:01\r\u001b[K     |█▉                              | 61kB 43.4MB/s eta 0:00:01\r\u001b[K     |██▏                             | 71kB 43.9MB/s eta 0:00:01\r\u001b[K     |██▌                             | 81kB 44.9MB/s eta 0:00:01\r\u001b[K     |██▉                             | 92kB 45.9MB/s eta 0:00:01\r\u001b[K     |███▏                            | 102kB 47.1MB/s eta 0:00:01\r\u001b[K     |███▌                            | 112kB 47.1MB/s eta 0:00:01\r\u001b[K     |███▊                            | 122kB 47.1MB/s eta 0:00:01\r\u001b[K     |████                            | 133kB 47.1MB/s eta 0:00:01\r\u001b[K     |████▍                           | 143kB 47.1MB/s eta 0:00:01\r\u001b[K     |████▊                           | 153kB 47.1MB/s eta 0:00:01\r\u001b[K     |█████                           | 163kB 47.1MB/s eta 0:00:01\r\u001b[K     |█████▎                          | 174kB 47.1MB/s eta 0:00:01\r\u001b[K     |█████▋                          | 184kB 47.1MB/s eta 0:00:01\r\u001b[K     |██████                          | 194kB 47.1MB/s eta 0:00:01\r\u001b[K     |██████▎                         | 204kB 47.1MB/s eta 0:00:01\r\u001b[K     |██████▋                         | 215kB 47.1MB/s eta 0:00:01\r\u001b[K     |███████                         | 225kB 47.1MB/s eta 0:00:01\r\u001b[K     |███████▏                        | 235kB 47.1MB/s eta 0:00:01\r\u001b[K     |███████▌                        | 245kB 47.1MB/s eta 0:00:01\r\u001b[K     |███████▉                        | 256kB 47.1MB/s eta 0:00:01\r\u001b[K     |████████▏                       | 266kB 47.1MB/s eta 0:00:01\r\u001b[K     |████████▌                       | 276kB 47.1MB/s eta 0:00:01\r\u001b[K     |████████▊                       | 286kB 47.1MB/s eta 0:00:01\r\u001b[K     |█████████                       | 296kB 47.1MB/s eta 0:00:01\r\u001b[K     |█████████▍                      | 307kB 47.1MB/s eta 0:00:01\r\u001b[K     |█████████▊                      | 317kB 47.1MB/s eta 0:00:01\r\u001b[K     |██████████                      | 327kB 47.1MB/s eta 0:00:01\r\u001b[K     |██████████▍                     | 337kB 47.1MB/s eta 0:00:01\r\u001b[K     |██████████▋                     | 348kB 47.1MB/s eta 0:00:01\r\u001b[K     |███████████                     | 358kB 47.1MB/s eta 0:00:01\r\u001b[K     |███████████▎                    | 368kB 47.1MB/s eta 0:00:01\r\u001b[K     |███████████▋                    | 378kB 47.1MB/s eta 0:00:01\r\u001b[K     |████████████                    | 389kB 47.1MB/s eta 0:00:01\r\u001b[K     |████████████▎                   | 399kB 47.1MB/s eta 0:00:01\r\u001b[K     |████████████▌                   | 409kB 47.1MB/s eta 0:00:01\r\u001b[K     |████████████▉                   | 419kB 47.1MB/s eta 0:00:01\r\u001b[K     |█████████████▏                  | 430kB 47.1MB/s eta 0:00:01\r\u001b[K     |█████████████▌                  | 440kB 47.1MB/s eta 0:00:01\r\u001b[K     |█████████████▉                  | 450kB 47.1MB/s eta 0:00:01\r\u001b[K     |██████████████                  | 460kB 47.1MB/s eta 0:00:01\r\u001b[K     |██████████████▍                 | 471kB 47.1MB/s eta 0:00:01\r\u001b[K     |██████████████▊                 | 481kB 47.1MB/s eta 0:00:01\r\u001b[K     |███████████████                 | 491kB 47.1MB/s eta 0:00:01\r\u001b[K     |███████████████▍                | 501kB 47.1MB/s eta 0:00:01\r\u001b[K     |███████████████▊                | 512kB 47.1MB/s eta 0:00:01\r\u001b[K     |████████████████                | 522kB 47.1MB/s eta 0:00:01\r\u001b[K     |████████████████▎               | 532kB 47.1MB/s eta 0:00:01\r\u001b[K     |████████████████▋               | 542kB 47.1MB/s eta 0:00:01\r\u001b[K     |█████████████████               | 552kB 47.1MB/s eta 0:00:01\r\u001b[K     |█████████████████▎              | 563kB 47.1MB/s eta 0:00:01\r\u001b[K     |█████████████████▌              | 573kB 47.1MB/s eta 0:00:01\r\u001b[K     |█████████████████▉              | 583kB 47.1MB/s eta 0:00:01\r\u001b[K     |██████████████████▏             | 593kB 47.1MB/s eta 0:00:01\r\u001b[K     |██████████████████▌             | 604kB 47.1MB/s eta 0:00:01\r\u001b[K     |██████████████████▉             | 614kB 47.1MB/s eta 0:00:01\r\u001b[K     |███████████████████▏            | 624kB 47.1MB/s eta 0:00:01\r\u001b[K     |███████████████████▍            | 634kB 47.1MB/s eta 0:00:01\r\u001b[K     |███████████████████▊            | 645kB 47.1MB/s eta 0:00:01\r\u001b[K     |████████████████████            | 655kB 47.1MB/s eta 0:00:01\r\u001b[K     |████████████████████▍           | 665kB 47.1MB/s eta 0:00:01\r\u001b[K     |████████████████████▊           | 675kB 47.1MB/s eta 0:00:01\r\u001b[K     |█████████████████████           | 686kB 47.1MB/s eta 0:00:01\r\u001b[K     |█████████████████████▎          | 696kB 47.1MB/s eta 0:00:01\r\u001b[K     |█████████████████████▋          | 706kB 47.1MB/s eta 0:00:01\r\u001b[K     |██████████████████████          | 716kB 47.1MB/s eta 0:00:01\r\u001b[K     |██████████████████████▎         | 727kB 47.1MB/s eta 0:00:01\r\u001b[K     |██████████████████████▋         | 737kB 47.1MB/s eta 0:00:01\r\u001b[K     |██████████████████████▉         | 747kB 47.1MB/s eta 0:00:01\r\u001b[K     |███████████████████████▏        | 757kB 47.1MB/s eta 0:00:01\r\u001b[K     |███████████████████████▌        | 768kB 47.1MB/s eta 0:00:01\r\u001b[K     |███████████████████████▉        | 778kB 47.1MB/s eta 0:00:01\r\u001b[K     |████████████████████████▏       | 788kB 47.1MB/s eta 0:00:01\r\u001b[K     |████████████████████████▌       | 798kB 47.1MB/s eta 0:00:01\r\u001b[K     |████████████████████████▊       | 808kB 47.1MB/s eta 0:00:01\r\u001b[K     |█████████████████████████       | 819kB 47.1MB/s eta 0:00:01\r\u001b[K     |█████████████████████████▍      | 829kB 47.1MB/s eta 0:00:01\r\u001b[K     |█████████████████████████▊      | 839kB 47.1MB/s eta 0:00:01\r\u001b[K     |██████████████████████████      | 849kB 47.1MB/s eta 0:00:01\r\u001b[K     |██████████████████████████▎     | 860kB 47.1MB/s eta 0:00:01\r\u001b[K     |██████████████████████████▋     | 870kB 47.1MB/s eta 0:00:01\r\u001b[K     |███████████████████████████     | 880kB 47.1MB/s eta 0:00:01\r\u001b[K     |███████████████████████████▎    | 890kB 47.1MB/s eta 0:00:01\r\u001b[K     |███████████████████████████▋    | 901kB 47.1MB/s eta 0:00:01\r\u001b[K     |████████████████████████████    | 911kB 47.1MB/s eta 0:00:01\r\u001b[K     |████████████████████████████▏   | 921kB 47.1MB/s eta 0:00:01\r\u001b[K     |████████████████████████████▌   | 931kB 47.1MB/s eta 0:00:01\r\u001b[K     |████████████████████████████▉   | 942kB 47.1MB/s eta 0:00:01\r\u001b[K     |█████████████████████████████▏  | 952kB 47.1MB/s eta 0:00:01\r\u001b[K     |█████████████████████████████▌  | 962kB 47.1MB/s eta 0:00:01\r\u001b[K     |█████████████████████████████▉  | 972kB 47.1MB/s eta 0:00:01\r\u001b[K     |██████████████████████████████  | 983kB 47.1MB/s eta 0:00:01\r\u001b[K     |██████████████████████████████▍ | 993kB 47.1MB/s eta 0:00:01\r\u001b[K     |██████████████████████████████▊ | 1.0MB 47.1MB/s eta 0:00:01\r\u001b[K     |███████████████████████████████ | 1.0MB 47.1MB/s eta 0:00:01\r\u001b[K     |███████████████████████████████▍| 1.0MB 47.1MB/s eta 0:00:01\r\u001b[K     |███████████████████████████████▋| 1.0MB 47.1MB/s eta 0:00:01\r\u001b[K     |████████████████████████████████| 1.0MB 47.1MB/s eta 0:00:01\r\u001b[K     |████████████████████████████████| 1.1MB 47.1MB/s \n",
            "\u001b[?25hWARNING:tensorflow:From <ipython-input-1-a71e2dbfd47b>:22: is_gpu_available (from tensorflow.python.framework.test_util) is deprecated and will be removed in a future version.\n",
            "Instructions for updating:\n",
            "Use `tf.config.list_physical_devices('GPU')` instead.\n"
          ],
          "name": "stdout"
        }
      ]
    },
    {
      "cell_type": "code",
      "metadata": {
        "id": "hrSQAmULWtn6",
        "colab_type": "code",
        "colab": {}
      },
      "source": [
        ""
      ],
      "execution_count": 0,
      "outputs": []
    },
    {
      "cell_type": "code",
      "metadata": {
        "id": "CzhFjTGqWtw-",
        "colab_type": "code",
        "colab": {}
      },
      "source": [
        "tf.random.set_seed(42)"
      ],
      "execution_count": 0,
      "outputs": []
    },
    {
      "cell_type": "code",
      "metadata": {
        "id": "s8_c68TtWuy5",
        "colab_type": "code",
        "colab": {}
      },
      "source": [
        "vocab_size = 100\n",
        "embed_size = 10"
      ],
      "execution_count": 0,
      "outputs": []
    },
    {
      "cell_type": "code",
      "metadata": {
        "id": "mfvOVaFbXAl_",
        "colab_type": "code",
        "colab": {
          "base_uri": "https://localhost:8080/",
          "height": 596
        },
        "outputId": "c04db854-2b34-42cf-b001-f5a6178a7bf7"
      },
      "source": [
        "import tensorflow_addons as tfa\n",
        "\n",
        "encoder_inputs = keras.layers.Input(shape=[None], dtype=np.int32)\n",
        "decoder_inputs = keras.layers.Input(shape=[None], dtype=np.int32)\n",
        "sequence_lengths = keras.layers.Input(shape=[], dtype=np.int32)\n",
        "\n",
        "embeddings = keras.layers.Embedding(vocab_size, embed_size)\n",
        "encoder_embeddings = embeddings(encoder_inputs)\n",
        "decoder_embeddings = embeddings(decoder_inputs)\n",
        "\n",
        "encoder = keras.layers.LSTM(512, return_state=True)\n",
        "encoder_outputs, state_h, state_c = encoder(encoder_embeddings)\n",
        "encoder_state = [state_h, state_c]\n",
        "\n",
        "sampler = tfa.seq2seq.sampler.TrainingSampler()\n",
        "\n",
        "decoder_cell = keras.layers.LSTMCell(512)\n",
        "output_layer = keras.layers.Dense(vocab_size)\n",
        "decoder = tfa.seq2seq.basic_decoder.BasicDecoder(decoder_cell, sampler,\n",
        "                                                 output_layer=output_layer)\n",
        "final_outputs, final_state, final_sequence_lengths = decoder(\n",
        "    decoder_embeddings, initial_state=encoder_state,\n",
        "    sequence_length=sequence_lengths)\n",
        "Y_proba = tf.nn.softmax(final_outputs.rnn_output)\n",
        "\n",
        "model = keras.models.Model(\n",
        "    inputs=[encoder_inputs, decoder_inputs, sequence_lengths],\n",
        "    outputs=[Y_proba])"
      ],
      "execution_count": 4,
      "outputs": [
        {
          "output_type": "error",
          "ename": "TypeError",
          "evalue": "ignored",
          "traceback": [
            "\u001b[0;31m---------------------------------------------------------------------------\u001b[0m",
            "\u001b[0;31mTypeError\u001b[0m                                 Traceback (most recent call last)",
            "\u001b[0;32m<ipython-input-4-ef00186aa6df>\u001b[0m in \u001b[0;36m<module>\u001b[0;34m()\u001b[0m\n\u001b[1;32m     21\u001b[0m final_outputs, final_state, final_sequence_lengths = decoder(\n\u001b[1;32m     22\u001b[0m     \u001b[0mdecoder_embeddings\u001b[0m\u001b[0;34m,\u001b[0m \u001b[0minitial_state\u001b[0m\u001b[0;34m=\u001b[0m\u001b[0mencoder_state\u001b[0m\u001b[0;34m,\u001b[0m\u001b[0;34m\u001b[0m\u001b[0;34m\u001b[0m\u001b[0m\n\u001b[0;32m---> 23\u001b[0;31m     sequence_length=sequence_lengths)\n\u001b[0m\u001b[1;32m     24\u001b[0m \u001b[0mY_proba\u001b[0m \u001b[0;34m=\u001b[0m \u001b[0mtf\u001b[0m\u001b[0;34m.\u001b[0m\u001b[0mnn\u001b[0m\u001b[0;34m.\u001b[0m\u001b[0msoftmax\u001b[0m\u001b[0;34m(\u001b[0m\u001b[0mfinal_outputs\u001b[0m\u001b[0;34m.\u001b[0m\u001b[0mrnn_output\u001b[0m\u001b[0;34m)\u001b[0m\u001b[0;34m\u001b[0m\u001b[0;34m\u001b[0m\u001b[0m\n\u001b[1;32m     25\u001b[0m \u001b[0;34m\u001b[0m\u001b[0m\n",
            "\u001b[0;32m/usr/local/lib/python3.6/dist-packages/tensorflow/python/keras/engine/base_layer.py\u001b[0m in \u001b[0;36m__call__\u001b[0;34m(self, *args, **kwargs)\u001b[0m\n\u001b[1;32m    920\u001b[0m                     not base_layer_utils.is_in_eager_or_tf_function()):\n\u001b[1;32m    921\u001b[0m                   \u001b[0;32mwith\u001b[0m \u001b[0mauto_control_deps\u001b[0m\u001b[0;34m.\u001b[0m\u001b[0mAutomaticControlDependencies\u001b[0m\u001b[0;34m(\u001b[0m\u001b[0;34m)\u001b[0m \u001b[0;32mas\u001b[0m \u001b[0macd\u001b[0m\u001b[0;34m:\u001b[0m\u001b[0;34m\u001b[0m\u001b[0;34m\u001b[0m\u001b[0m\n\u001b[0;32m--> 922\u001b[0;31m                     \u001b[0moutputs\u001b[0m \u001b[0;34m=\u001b[0m \u001b[0mcall_fn\u001b[0m\u001b[0;34m(\u001b[0m\u001b[0mcast_inputs\u001b[0m\u001b[0;34m,\u001b[0m \u001b[0;34m*\u001b[0m\u001b[0margs\u001b[0m\u001b[0;34m,\u001b[0m \u001b[0;34m**\u001b[0m\u001b[0mkwargs\u001b[0m\u001b[0;34m)\u001b[0m\u001b[0;34m\u001b[0m\u001b[0;34m\u001b[0m\u001b[0m\n\u001b[0m\u001b[1;32m    923\u001b[0m                     \u001b[0;31m# Wrap Tensors in `outputs` in `tf.identity` to avoid\u001b[0m\u001b[0;34m\u001b[0m\u001b[0;34m\u001b[0m\u001b[0;34m\u001b[0m\u001b[0m\n\u001b[1;32m    924\u001b[0m                     \u001b[0;31m# circular dependencies.\u001b[0m\u001b[0;34m\u001b[0m\u001b[0;34m\u001b[0m\u001b[0;34m\u001b[0m\u001b[0m\n",
            "\u001b[0;32m/usr/local/lib/python3.6/dist-packages/tensorflow/python/autograph/impl/api.py\u001b[0m in \u001b[0;36mwrapper\u001b[0;34m(*args, **kwargs)\u001b[0m\n\u001b[1;32m    263\u001b[0m       \u001b[0;32mexcept\u001b[0m \u001b[0mException\u001b[0m \u001b[0;32mas\u001b[0m \u001b[0me\u001b[0m\u001b[0;34m:\u001b[0m  \u001b[0;31m# pylint:disable=broad-except\u001b[0m\u001b[0;34m\u001b[0m\u001b[0;34m\u001b[0m\u001b[0m\n\u001b[1;32m    264\u001b[0m         \u001b[0;32mif\u001b[0m \u001b[0mhasattr\u001b[0m\u001b[0;34m(\u001b[0m\u001b[0me\u001b[0m\u001b[0;34m,\u001b[0m \u001b[0;34m'ag_error_metadata'\u001b[0m\u001b[0;34m)\u001b[0m\u001b[0;34m:\u001b[0m\u001b[0;34m\u001b[0m\u001b[0;34m\u001b[0m\u001b[0m\n\u001b[0;32m--> 265\u001b[0;31m           \u001b[0;32mraise\u001b[0m \u001b[0me\u001b[0m\u001b[0;34m.\u001b[0m\u001b[0mag_error_metadata\u001b[0m\u001b[0;34m.\u001b[0m\u001b[0mto_exception\u001b[0m\u001b[0;34m(\u001b[0m\u001b[0me\u001b[0m\u001b[0;34m)\u001b[0m\u001b[0;34m\u001b[0m\u001b[0;34m\u001b[0m\u001b[0m\n\u001b[0m\u001b[1;32m    266\u001b[0m         \u001b[0;32melse\u001b[0m\u001b[0;34m:\u001b[0m\u001b[0;34m\u001b[0m\u001b[0;34m\u001b[0m\u001b[0m\n\u001b[1;32m    267\u001b[0m           \u001b[0;32mraise\u001b[0m\u001b[0;34m\u001b[0m\u001b[0;34m\u001b[0m\u001b[0m\n",
            "\u001b[0;31mTypeError\u001b[0m: in user code:\n\n    /usr/local/lib/python3.6/dist-packages/tensorflow_addons/seq2seq/decoder.py:163 call  *\n        self,\n    /usr/local/lib/python3.6/dist-packages/typeguard/__init__.py:261 wrapper  *\n        check_argument_types(memo)\n    /usr/local/lib/python3.6/dist-packages/typeguard/__init__.py:668 check_argument_types  *\n        check_type(description, value, expected_type, memo)\n    /usr/local/lib/python3.6/dist-packages/typeguard/__init__.py:566 check_type  *\n        checker_func(argname, value, expected_type, memo)\n    /usr/local/lib/python3.6/dist-packages/typeguard/__init__.py:409 check_union  *\n        raise TypeError('type of {} must be one of ({}); got {} instead'.\n\n    TypeError: type of argument \"training\" must be one of (bool, NoneType); got tensorflow.python.framework.ops.Tensor instead\n"
          ]
        }
      ]
    },
    {
      "cell_type": "code",
      "metadata": {
        "id": "1lAAi-2tXJFQ",
        "colab_type": "code",
        "colab": {}
      },
      "source": [
        ""
      ],
      "execution_count": 0,
      "outputs": []
    }
  ]
}