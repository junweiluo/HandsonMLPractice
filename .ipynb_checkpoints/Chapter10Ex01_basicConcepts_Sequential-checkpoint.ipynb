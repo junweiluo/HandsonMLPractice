{
 "cells": [
  {
   "cell_type": "code",
   "execution_count": 1,
   "metadata": {},
   "outputs": [
    {
     "name": "stderr",
     "output_type": "stream",
     "text": [
      "/Users/junweiluo/anaconda3/lib/python3.7/site-packages/tensorboard/compat/tensorflow_stub/dtypes.py:541: FutureWarning: Passing (type, 1) or '1type' as a synonym of type is deprecated; in a future version of numpy, it will be understood as (type, (1,)) / '(1,)type'.\n",
      "  _np_qint8 = np.dtype([(\"qint8\", np.int8, 1)])\n",
      "/Users/junweiluo/anaconda3/lib/python3.7/site-packages/tensorboard/compat/tensorflow_stub/dtypes.py:542: FutureWarning: Passing (type, 1) or '1type' as a synonym of type is deprecated; in a future version of numpy, it will be understood as (type, (1,)) / '(1,)type'.\n",
      "  _np_quint8 = np.dtype([(\"quint8\", np.uint8, 1)])\n",
      "/Users/junweiluo/anaconda3/lib/python3.7/site-packages/tensorboard/compat/tensorflow_stub/dtypes.py:543: FutureWarning: Passing (type, 1) or '1type' as a synonym of type is deprecated; in a future version of numpy, it will be understood as (type, (1,)) / '(1,)type'.\n",
      "  _np_qint16 = np.dtype([(\"qint16\", np.int16, 1)])\n",
      "/Users/junweiluo/anaconda3/lib/python3.7/site-packages/tensorboard/compat/tensorflow_stub/dtypes.py:544: FutureWarning: Passing (type, 1) or '1type' as a synonym of type is deprecated; in a future version of numpy, it will be understood as (type, (1,)) / '(1,)type'.\n",
      "  _np_quint16 = np.dtype([(\"quint16\", np.uint16, 1)])\n",
      "/Users/junweiluo/anaconda3/lib/python3.7/site-packages/tensorboard/compat/tensorflow_stub/dtypes.py:545: FutureWarning: Passing (type, 1) or '1type' as a synonym of type is deprecated; in a future version of numpy, it will be understood as (type, (1,)) / '(1,)type'.\n",
      "  _np_qint32 = np.dtype([(\"qint32\", np.int32, 1)])\n",
      "/Users/junweiluo/anaconda3/lib/python3.7/site-packages/tensorboard/compat/tensorflow_stub/dtypes.py:550: FutureWarning: Passing (type, 1) or '1type' as a synonym of type is deprecated; in a future version of numpy, it will be understood as (type, (1,)) / '(1,)type'.\n",
      "  np_resource = np.dtype([(\"resource\", np.ubyte, 1)])\n"
     ]
    }
   ],
   "source": [
    "import tensorflow as tf"
   ]
  },
  {
   "cell_type": "code",
   "execution_count": 2,
   "metadata": {},
   "outputs": [],
   "source": [
    "from tensorflow import keras"
   ]
  },
  {
   "cell_type": "code",
   "execution_count": 3,
   "metadata": {},
   "outputs": [],
   "source": [
    "fashion_mnist = keras.datasets.fashion_mnist"
   ]
  },
  {
   "cell_type": "code",
   "execution_count": 4,
   "metadata": {},
   "outputs": [],
   "source": [
    "(X_train_full, y_train_full), (X_test, y_test) = fashion_mnist.load_data()"
   ]
  },
  {
   "cell_type": "code",
   "execution_count": 5,
   "metadata": {},
   "outputs": [
    {
     "data": {
      "text/plain": [
       "(60000, 28, 28)"
      ]
     },
     "execution_count": 5,
     "metadata": {},
     "output_type": "execute_result"
    }
   ],
   "source": [
    "X_train_full.shape"
   ]
  },
  {
   "cell_type": "code",
   "execution_count": 6,
   "metadata": {},
   "outputs": [
    {
     "data": {
      "text/plain": [
       "dtype('uint8')"
      ]
     },
     "execution_count": 6,
     "metadata": {},
     "output_type": "execute_result"
    }
   ],
   "source": [
    "X_train_full.dtype"
   ]
  },
  {
   "cell_type": "code",
   "execution_count": 7,
   "metadata": {},
   "outputs": [],
   "source": [
    "X_valid, X_train = X_train_full[:5000]/255.0, X_train_full[5000:]/255.0\n",
    "y_valid, y_train = y_train_full[:5000], y_train_full[5000:]"
   ]
  },
  {
   "cell_type": "code",
   "execution_count": 8,
   "metadata": {},
   "outputs": [],
   "source": [
    "class_names = ['T-shirt/top', 'Trouser', 'Pullover', 'Dress', 'Coat', 'Sandal', 'Shirt', 'Sneaker', 'Bag', 'Ankel boot']"
   ]
  },
  {
   "cell_type": "code",
   "execution_count": 9,
   "metadata": {},
   "outputs": [
    {
     "data": {
      "text/plain": [
       "'Coat'"
      ]
     },
     "execution_count": 9,
     "metadata": {},
     "output_type": "execute_result"
    }
   ],
   "source": [
    "class_names[y_train[0]]"
   ]
  },
  {
   "cell_type": "code",
   "execution_count": 10,
   "metadata": {},
   "outputs": [],
   "source": [
    "# create a model\n",
    "\n",
    "model = keras.models.Sequential()"
   ]
  },
  {
   "cell_type": "code",
   "execution_count": 11,
   "metadata": {},
   "outputs": [],
   "source": [
    "model.add(keras.layers.InputLayer(input_shape=[28,28]))\n",
    "\n",
    "#model.add(keras.layers.Flatten(input_shape=[28,28]))"
   ]
  },
  {
   "cell_type": "code",
   "execution_count": 12,
   "metadata": {},
   "outputs": [],
   "source": [
    "model.add(keras.layers.Dense(300, activation = 'relu' )) # can add kernel_initializer or bias_initializer for the layer.\n",
    "model.add(keras.layers.Dense(100, activation = 'relu'))\n",
    "model.add(keras.layers.Dense(10, activation = 'softmax'))"
   ]
  },
  {
   "cell_type": "code",
   "execution_count": 13,
   "metadata": {},
   "outputs": [],
   "source": [
    "model = keras.models.Sequential([\n",
    "    keras.layers.Flatten(input_shape=[28,28]),\n",
    "    keras.layers.Dense(300, activation = 'relu'),\n",
    "    keras.layers.Dense(100, activation = 'relu'),\n",
    "    keras.layers.Dense(10, activation = 'softmax')\n",
    "])"
   ]
  },
  {
   "cell_type": "code",
   "execution_count": 14,
   "metadata": {},
   "outputs": [
    {
     "name": "stdout",
     "output_type": "stream",
     "text": [
      "Model: \"sequential_1\"\n",
      "_________________________________________________________________\n",
      "Layer (type)                 Output Shape              Param #   \n",
      "=================================================================\n",
      "flatten (Flatten)            (None, 784)               0         \n",
      "_________________________________________________________________\n",
      "dense_3 (Dense)              (None, 300)               235500    \n",
      "_________________________________________________________________\n",
      "dense_4 (Dense)              (None, 100)               30100     \n",
      "_________________________________________________________________\n",
      "dense_5 (Dense)              (None, 10)                1010      \n",
      "=================================================================\n",
      "Total params: 266,610\n",
      "Trainable params: 266,610\n",
      "Non-trainable params: 0\n",
      "_________________________________________________________________\n"
     ]
    }
   ],
   "source": [
    "model.summary()  # slightly different Flatten is considered a layer in nn but InputLayer is not."
   ]
  },
  {
   "cell_type": "code",
   "execution_count": 15,
   "metadata": {},
   "outputs": [
    {
     "data": {
      "text/plain": [
       "[<tensorflow.python.keras.layers.core.Flatten at 0x15bdd63d0>,\n",
       " <tensorflow.python.keras.layers.core.Dense at 0x15bdd65d0>,\n",
       " <tensorflow.python.keras.layers.core.Dense at 0x15bdd69d0>,\n",
       " <tensorflow.python.keras.layers.core.Dense at 0x15bdd6d50>]"
      ]
     },
     "execution_count": 15,
     "metadata": {},
     "output_type": "execute_result"
    }
   ],
   "source": [
    "model.layers"
   ]
  },
  {
   "cell_type": "code",
   "execution_count": 16,
   "metadata": {},
   "outputs": [],
   "source": [
    "hidden1 = model.layers[1]"
   ]
  },
  {
   "cell_type": "code",
   "execution_count": 17,
   "metadata": {},
   "outputs": [
    {
     "data": {
      "text/plain": [
       "'dense_3'"
      ]
     },
     "execution_count": 17,
     "metadata": {},
     "output_type": "execute_result"
    }
   ],
   "source": [
    "hidden1.name"
   ]
  },
  {
   "cell_type": "code",
   "execution_count": 18,
   "metadata": {},
   "outputs": [],
   "source": [
    "weights, bias = hidden1.get_weights()  # these functions can be used for tracking or visualization"
   ]
  },
  {
   "cell_type": "code",
   "execution_count": 19,
   "metadata": {},
   "outputs": [
    {
     "data": {
      "text/plain": [
       "array([[ 0.04399229, -0.01047516,  0.00301258, ..., -0.02005745,\n",
       "        -0.06257856, -0.00855882],\n",
       "       [-0.02434552,  0.02854484,  0.05554923, ...,  0.03057912,\n",
       "        -0.0583613 , -0.00257969],\n",
       "       [-0.06272719,  0.04199103, -0.06870117, ..., -0.03163225,\n",
       "        -0.06145959, -0.02312406],\n",
       "       ...,\n",
       "       [ 0.01345168, -0.07137822,  0.04010291, ..., -0.02839749,\n",
       "        -0.02865926,  0.01573422],\n",
       "       [-0.05479312, -0.00885984,  0.00440843, ..., -0.02670226,\n",
       "         0.03394932, -0.02944324],\n",
       "       [-0.02525542,  0.06302123,  0.00732221, ..., -0.01589517,\n",
       "         0.06687033,  0.01967852]], dtype=float32)"
      ]
     },
     "execution_count": 19,
     "metadata": {},
     "output_type": "execute_result"
    }
   ],
   "source": [
    "weights"
   ]
  },
  {
   "cell_type": "code",
   "execution_count": 20,
   "metadata": {},
   "outputs": [
    {
     "data": {
      "text/plain": [
       "array([0., 0., 0., 0., 0., 0., 0., 0., 0., 0., 0., 0., 0., 0., 0., 0., 0.,\n",
       "       0., 0., 0., 0., 0., 0., 0., 0., 0., 0., 0., 0., 0., 0., 0., 0., 0.,\n",
       "       0., 0., 0., 0., 0., 0., 0., 0., 0., 0., 0., 0., 0., 0., 0., 0., 0.,\n",
       "       0., 0., 0., 0., 0., 0., 0., 0., 0., 0., 0., 0., 0., 0., 0., 0., 0.,\n",
       "       0., 0., 0., 0., 0., 0., 0., 0., 0., 0., 0., 0., 0., 0., 0., 0., 0.,\n",
       "       0., 0., 0., 0., 0., 0., 0., 0., 0., 0., 0., 0., 0., 0., 0., 0., 0.,\n",
       "       0., 0., 0., 0., 0., 0., 0., 0., 0., 0., 0., 0., 0., 0., 0., 0., 0.,\n",
       "       0., 0., 0., 0., 0., 0., 0., 0., 0., 0., 0., 0., 0., 0., 0., 0., 0.,\n",
       "       0., 0., 0., 0., 0., 0., 0., 0., 0., 0., 0., 0., 0., 0., 0., 0., 0.,\n",
       "       0., 0., 0., 0., 0., 0., 0., 0., 0., 0., 0., 0., 0., 0., 0., 0., 0.,\n",
       "       0., 0., 0., 0., 0., 0., 0., 0., 0., 0., 0., 0., 0., 0., 0., 0., 0.,\n",
       "       0., 0., 0., 0., 0., 0., 0., 0., 0., 0., 0., 0., 0., 0., 0., 0., 0.,\n",
       "       0., 0., 0., 0., 0., 0., 0., 0., 0., 0., 0., 0., 0., 0., 0., 0., 0.,\n",
       "       0., 0., 0., 0., 0., 0., 0., 0., 0., 0., 0., 0., 0., 0., 0., 0., 0.,\n",
       "       0., 0., 0., 0., 0., 0., 0., 0., 0., 0., 0., 0., 0., 0., 0., 0., 0.,\n",
       "       0., 0., 0., 0., 0., 0., 0., 0., 0., 0., 0., 0., 0., 0., 0., 0., 0.,\n",
       "       0., 0., 0., 0., 0., 0., 0., 0., 0., 0., 0., 0., 0., 0., 0., 0., 0.,\n",
       "       0., 0., 0., 0., 0., 0., 0., 0., 0., 0., 0.], dtype=float32)"
      ]
     },
     "execution_count": 20,
     "metadata": {},
     "output_type": "execute_result"
    }
   ],
   "source": [
    "bias"
   ]
  },
  {
   "cell_type": "code",
   "execution_count": 21,
   "metadata": {},
   "outputs": [],
   "source": [
    "# compile the model\n",
    "model.compile(loss = 'sparse_categorical_crossentropy',\n",
    "             optimizer = 'adam',\n",
    "             metrics = ['accuracy'])  # metrics is optional parameter.\n",
    "\n",
    "#It might be worthwile to add that loss function and metrics are often not the same (and someone might ask: why?) \n",
    "#as we need some kind of proxy-function (loss which somewhat effects in a low error metric) \n",
    "#as some metrics are not smooth and can't be optimized by the algorithms in play."
   ]
  },
  {
   "cell_type": "markdown",
   "metadata": {},
   "source": [
    "#The loss function is that parameter one passes to Keras model.compile \n",
    "#which is actually optimized while training the model . \n",
    "#This loss function is generally minimized by the model.\n",
    "\n",
    "#Unlike the loss function , the metric is another list of parameters passed to Keras model.compile \n",
    "#which is actually used for judging the performance of the model.\n",
    "\n",
    "#For example : For some reason you may want to minimize the MSE loss for a regression model \n",
    "#while also want to check the AUC for the model . \n",
    "#In this case the MSE is the loss function and the AUC is the metric . \n",
    "#Metric is the model performance parameter that one can see while the model is judging itself on the validation set \n",
    "#after each epoch of training. It is important to note that the metric is important for few Keras callbacks like \n",
    "#EarlyStopping when one wants to stop training the model in case the metric isn't improving for a certaining no. of epochs."
   ]
  },
  {
   "cell_type": "markdown",
   "metadata": {},
   "source": [
    "Sparse_categorical_crossentropy: multi-classes and the classes are exclusive  (softmax function)\n",
    "Categorical_crossentropy: using one hot vectors to convert multiclasses to 0/1 (softmax function)\n",
    "Binary_corssentropy: 1/0 with sigmoid function.\n",
    "\n",
    "Use keras.util.to_categorical() to convert to one-hot (then use softmax activation and categorical_crossentropy)\n",
    "Use np.argmax to convert to sparse labels."
   ]
  },
  {
   "cell_type": "code",
   "execution_count": 24,
   "metadata": {},
   "outputs": [
    {
     "name": "stdout",
     "output_type": "stream",
     "text": [
      "Train on 55000 samples, validate on 5000 samples\n",
      "Epoch 1/30\n",
      "55000/55000 [==============================] - 4s 76us/sample - loss: 0.4878 - accuracy: 0.8265 - val_loss: 0.3749 - val_accuracy: 0.8660\n",
      "Epoch 2/30\n",
      "55000/55000 [==============================] - 4s 69us/sample - loss: 0.3673 - accuracy: 0.8654 - val_loss: 0.3796 - val_accuracy: 0.8574\n",
      "Epoch 3/30\n",
      "55000/55000 [==============================] - 4s 67us/sample - loss: 0.3312 - accuracy: 0.8783 - val_loss: 0.3228 - val_accuracy: 0.8834\n",
      "Epoch 4/30\n",
      "55000/55000 [==============================] - 4s 73us/sample - loss: 0.3036 - accuracy: 0.8867 - val_loss: 0.3074 - val_accuracy: 0.8848\n",
      "Epoch 5/30\n",
      "55000/55000 [==============================] - 4s 68us/sample - loss: 0.2845 - accuracy: 0.8937 - val_loss: 0.3262 - val_accuracy: 0.8850\n",
      "Epoch 6/30\n",
      "55000/55000 [==============================] - 4s 69us/sample - loss: 0.2695 - accuracy: 0.8989 - val_loss: 0.3333 - val_accuracy: 0.8788\n",
      "Epoch 7/30\n",
      "55000/55000 [==============================] - 4s 68us/sample - loss: 0.2565 - accuracy: 0.9039 - val_loss: 0.3001 - val_accuracy: 0.8916\n",
      "Epoch 8/30\n",
      "55000/55000 [==============================] - 4s 68us/sample - loss: 0.2455 - accuracy: 0.9076 - val_loss: 0.3186 - val_accuracy: 0.8936\n",
      "Epoch 9/30\n",
      "55000/55000 [==============================] - 4s 69us/sample - loss: 0.2373 - accuracy: 0.9109 - val_loss: 0.3116 - val_accuracy: 0.8938\n",
      "Epoch 10/30\n",
      "55000/55000 [==============================] - 4s 69us/sample - loss: 0.2274 - accuracy: 0.9135 - val_loss: 0.3111 - val_accuracy: 0.8918\n",
      "Epoch 11/30\n",
      "55000/55000 [==============================] - 4s 68us/sample - loss: 0.2174 - accuracy: 0.9176 - val_loss: 0.3262 - val_accuracy: 0.8906\n",
      "Epoch 12/30\n",
      "55000/55000 [==============================] - 4s 69us/sample - loss: 0.2103 - accuracy: 0.9197 - val_loss: 0.3207 - val_accuracy: 0.8960\n",
      "Epoch 13/30\n",
      "55000/55000 [==============================] - 4s 68us/sample - loss: 0.2008 - accuracy: 0.9227 - val_loss: 0.3394 - val_accuracy: 0.8928\n",
      "Epoch 14/30\n",
      "55000/55000 [==============================] - 4s 68us/sample - loss: 0.1956 - accuracy: 0.9256 - val_loss: 0.3244 - val_accuracy: 0.8990- loss: 0.1958 - accuracy: \n",
      "Epoch 15/30\n",
      "55000/55000 [==============================] - 4s 69us/sample - loss: 0.1923 - accuracy: 0.9272 - val_loss: 0.3301 - val_accuracy: 0.8966\n",
      "Epoch 16/30\n",
      "55000/55000 [==============================] - 4s 69us/sample - loss: 0.1822 - accuracy: 0.9299 - val_loss: 0.3610 - val_accuracy: 0.8904\n",
      "Epoch 17/30\n",
      "55000/55000 [==============================] - 4s 69us/sample - loss: 0.1786 - accuracy: 0.9324 - val_loss: 0.3513 - val_accuracy: 0.8976\n",
      "Epoch 18/30\n",
      "55000/55000 [==============================] - 4s 69us/sample - loss: 0.1754 - accuracy: 0.9333 - val_loss: 0.3534 - val_accuracy: 0.8984\n",
      "Epoch 19/30\n",
      "55000/55000 [==============================] - 4s 69us/sample - loss: 0.1691 - accuracy: 0.9345 - val_loss: 0.3453 - val_accuracy: 0.8948\n",
      "Epoch 20/30\n",
      "55000/55000 [==============================] - 4s 69us/sample - loss: 0.1639 - accuracy: 0.9367 - val_loss: 0.3644 - val_accuracy: 0.8984\n",
      "Epoch 21/30\n",
      "55000/55000 [==============================] - 4s 69us/sample - loss: 0.1563 - accuracy: 0.9402 - val_loss: 0.3594 - val_accuracy: 0.8960\n",
      "Epoch 22/30\n",
      "55000/55000 [==============================] - 4s 69us/sample - loss: 0.1560 - accuracy: 0.9397 - val_loss: 0.3872 - val_accuracy: 0.8950\n",
      "Epoch 23/30\n",
      "55000/55000 [==============================] - 4s 71us/sample - loss: 0.1506 - accuracy: 0.9420 - val_loss: 0.3969 - val_accuracy: 0.8906\n",
      "Epoch 24/30\n",
      "55000/55000 [==============================] - 4s 68us/sample - loss: 0.1480 - accuracy: 0.9431 - val_loss: 0.3973 - val_accuracy: 0.8946\n",
      "Epoch 25/30\n",
      "55000/55000 [==============================] - 4s 69us/sample - loss: 0.1434 - accuracy: 0.9447 - val_loss: 0.4004 - val_accuracy: 0.8994\n",
      "Epoch 26/30\n",
      "55000/55000 [==============================] - 4s 70us/sample - loss: 0.1394 - accuracy: 0.9469 - val_loss: 0.4071 - val_accuracy: 0.8964\n",
      "Epoch 27/30\n",
      "55000/55000 [==============================] - 4s 68us/sample - loss: 0.1357 - accuracy: 0.9480 - val_loss: 0.4062 - val_accuracy: 0.8988\n",
      "Epoch 28/30\n",
      "55000/55000 [==============================] - 4s 79us/sample - loss: 0.1317 - accuracy: 0.9493 - val_loss: 0.4199 - val_accuracy: 0.8998\n",
      "Epoch 29/30\n",
      "55000/55000 [==============================] - 4s 70us/sample - loss: 0.1294 - accuracy: 0.9504 - val_loss: 0.4505 - val_accuracy: 0.8992\n",
      "Epoch 30/30\n",
      "55000/55000 [==============================] - 4s 69us/sample - loss: 0.1250 - accuracy: 0.9516 - val_loss: 0.4237 - val_accuracy: 0.8940\n"
     ]
    }
   ],
   "source": [
    "#train the model\n",
    "#history = model.fit(X_train, y_train, epochs=30, validation_split=0.1)\n",
    "history = model.fit(X_train, y_train, epochs=30, validation_data=(X_valid, y_valid))\n",
    "\n",
    "# validation set is optional to measure model performance on selected metrics.\n",
    "# or we can use validation_split = ... instead of splitting manually.\n",
    "# validation set is also used for hyperparameter tuning."
   ]
  },
  {
   "cell_type": "code",
   "execution_count": 25,
   "metadata": {},
   "outputs": [],
   "source": [
    "import pandas as pd\n",
    "import matplotlib.pyplot as plt"
   ]
  },
  {
   "cell_type": "code",
   "execution_count": 26,
   "metadata": {},
   "outputs": [
    {
     "data": {
      "text/plain": [
       "<matplotlib.axes._subplots.AxesSubplot at 0x1355b9c90>"
      ]
     },
     "execution_count": 26,
     "metadata": {},
     "output_type": "execute_result"
    },
    {
     "data": {
      "image/png": "[encoded data removed]",
      "text/plain": [
       "<Figure size 720x360 with 1 Axes>"
      ]
     },
     "metadata": {
      "needs_background": "light"
     },
     "output_type": "display_data"
    }
   ],
   "source": [
    "pd.DataFrame(history.history).plot(figsize = (10,5))"
   ]
  },
  {
   "cell_type": "code",
   "execution_count": 80,
   "metadata": {},
   "outputs": [
    {
     "name": "stdout",
     "output_type": "stream",
     "text": [
      "10000/10000 [==============================] - 0s 44us/sample - loss: 0.4308 - accuracy: 0.8916\n"
     ]
    },
    {
     "data": {
      "text/plain": [
       "[0.43079673901200294, 0.8916]"
      ]
     },
     "execution_count": 80,
     "metadata": {},
     "output_type": "execute_result"
    }
   ],
   "source": [
    "# model evaluation using test set.  Don't do hyperparameter tuning.\n",
    "X_test = X_test/255.0\n",
    "model.evaluate(X_test, y_test)"
   ]
  },
  {
   "cell_type": "code",
   "execution_count": 83,
   "metadata": {},
   "outputs": [
    {
     "data": {
      "text/plain": [
       "array([[1.7478225e-13, 7.2401141e-10, 8.7983989e-14, 5.0689512e-11,\n",
       "        4.4145018e-11, 4.5590291e-08, 1.6857570e-10, 1.4150307e-05,\n",
       "        1.3367597e-14, 9.9998581e-01],\n",
       "       [3.2929991e-05, 2.1518719e-16, 9.9990487e-01, 1.1920468e-13,\n",
       "        4.7245892e-05, 9.9912122e-20, 1.4924468e-05, 5.8894426e-26,\n",
       "        2.2386121e-13, 2.2394463e-23],\n",
       "       [1.0763302e-33, 1.0000000e+00, 0.0000000e+00, 4.4441715e-28,\n",
       "        0.0000000e+00, 0.0000000e+00, 6.9918474e-36, 0.0000000e+00,\n",
       "        0.0000000e+00, 0.0000000e+00]], dtype=float32)"
      ]
     },
     "execution_count": 83,
     "metadata": {},
     "output_type": "execute_result"
    }
   ],
   "source": [
    "# model prediction\n",
    "X_new = X_test[:3]\n",
    "y_proba= model.predict(X_new)\n",
    "y_proba"
   ]
  },
  {
   "cell_type": "code",
   "execution_count": 76,
   "metadata": {},
   "outputs": [
    {
     "data": {
      "text/plain": [
       "array([9, 2, 1])"
      ]
     },
     "execution_count": 76,
     "metadata": {},
     "output_type": "execute_result"
    }
   ],
   "source": [
    "y_pred = model.predict_classes(X_new)\n",
    "y_pred"
   ]
  },
  {
   "cell_type": "code",
   "execution_count": 79,
   "metadata": {},
   "outputs": [
    {
     "data": {
      "text/plain": [
       "array(['Ankel boot', 'Pullover', 'Trouser'], dtype='<U11')"
      ]
     },
     "execution_count": 79,
     "metadata": {},
     "output_type": "execute_result"
    }
   ],
   "source": [
    "import numpy as np\n",
    "np.array(class_names)[y_pred]"
   ]
  },
  {
   "cell_type": "code",
   "execution_count": 28,
   "metadata": {},
   "outputs": [],
   "source": [
    "# add cnn layers to lift performance\n",
    "# create a model, architecture\n",
    "model2 = keras.models.Sequential()"
   ]
  },
  {
   "cell_type": "code",
   "execution_count": 29,
   "metadata": {},
   "outputs": [],
   "source": [
    "model2.add(keras.layers.Conv2D(64, 7, activation='relu', padding='same', input_shape=[28,28,1]))"
   ]
  },
  {
   "cell_type": "code",
   "execution_count": 30,
   "metadata": {},
   "outputs": [],
   "source": [
    "model2.add(keras.layers.MaxPool2D(2))"
   ]
  },
  {
   "cell_type": "code",
   "execution_count": 31,
   "metadata": {},
   "outputs": [],
   "source": [
    "model2.add(keras.layers.Conv2D(128, 3, activation='relu', padding='same'))\n",
    "model2.add(keras.layers.Conv2D(128, 3, activation='relu', padding='same'))"
   ]
  },
  {
   "cell_type": "code",
   "execution_count": 32,
   "metadata": {},
   "outputs": [],
   "source": [
    "model2.add(keras.layers.MaxPool2D(2))"
   ]
  },
  {
   "cell_type": "code",
   "execution_count": 33,
   "metadata": {},
   "outputs": [],
   "source": [
    "model2.add(keras.layers.Conv2D(256, 3, activation='relu', padding='same'))\n",
    "model2.add(keras.layers.Conv2D(256, 3, activation='relu', padding='same'))\n",
    "model2.add(keras.layers.MaxPool2D(2))"
   ]
  },
  {
   "cell_type": "code",
   "execution_count": 34,
   "metadata": {},
   "outputs": [],
   "source": [
    "model2.add(keras.layers.Flatten())  # now converted to 1-D vector as regular nn"
   ]
  },
  {
   "cell_type": "code",
   "execution_count": 35,
   "metadata": {},
   "outputs": [],
   "source": [
    "model2.add(keras.layers.Dense(128, activation='relu'))\n",
    "model2.add(keras.layers.Dropout(0.5))\n",
    "model2.add(keras.layers.Dense(64, activation='relu'))\n",
    "model2.add(keras.layers.Dropout(0.5))"
   ]
  },
  {
   "cell_type": "code",
   "execution_count": 36,
   "metadata": {},
   "outputs": [],
   "source": [
    "model2.add(keras.layers.Dense(10, activation='softmax'))"
   ]
  },
  {
   "cell_type": "code",
   "execution_count": 52,
   "metadata": {},
   "outputs": [
    {
     "name": "stdout",
     "output_type": "stream",
     "text": [
      "Model: \"sequential_2\"\n",
      "_________________________________________________________________\n",
      "Layer (type)                 Output Shape              Param #   \n",
      "=================================================================\n",
      "conv2d (Conv2D)              (None, 28, 28, 64)        3200      \n",
      "_________________________________________________________________\n",
      "max_pooling2d (MaxPooling2D) (None, 14, 14, 64)        0         \n",
      "_________________________________________________________________\n",
      "conv2d_1 (Conv2D)            (None, 14, 14, 128)       73856     \n",
      "_________________________________________________________________\n",
      "conv2d_2 (Conv2D)            (None, 14, 14, 128)       147584    \n",
      "_________________________________________________________________\n",
      "max_pooling2d_1 (MaxPooling2 (None, 7, 7, 128)         0         \n",
      "_________________________________________________________________\n",
      "conv2d_3 (Conv2D)            (None, 7, 7, 256)         295168    \n",
      "_________________________________________________________________\n",
      "conv2d_4 (Conv2D)            (None, 7, 7, 256)         590080    \n",
      "_________________________________________________________________\n",
      "max_pooling2d_2 (MaxPooling2 (None, 3, 3, 256)         0         \n",
      "_________________________________________________________________\n",
      "flatten_1 (Flatten)          (None, 2304)              0         \n",
      "_________________________________________________________________\n",
      "dense_6 (Dense)              (None, 128)               295040    \n",
      "_________________________________________________________________\n",
      "dropout (Dropout)            (None, 128)               0         \n",
      "_________________________________________________________________\n",
      "dense_7 (Dense)              (None, 64)                8256      \n",
      "_________________________________________________________________\n",
      "dropout_1 (Dropout)          (None, 64)                0         \n",
      "_________________________________________________________________\n",
      "dense_8 (Dense)              (None, 10)                650       \n",
      "=================================================================\n",
      "Total params: 1,413,834\n",
      "Trainable params: 1,413,834\n",
      "Non-trainable params: 0\n",
      "_________________________________________________________________\n"
     ]
    }
   ],
   "source": [
    "model2.summary()"
   ]
  },
  {
   "cell_type": "code",
   "execution_count": 37,
   "metadata": {},
   "outputs": [],
   "source": [
    "# compile the model\n",
    "model2.compile(loss = 'sparse_categorical_crossentropy',\n",
    "             optimizer = 'adam',\n",
    "             metrics = ['accuracy'])"
   ]
  },
  {
   "cell_type": "code",
   "execution_count": 53,
   "metadata": {},
   "outputs": [
    {
     "name": "stdout",
     "output_type": "stream",
     "text": [
      "Train on 55000 samples, validate on 5000 samples\n",
      "Epoch 1/3\n",
      "55000/55000 [==============================] - 307s 6ms/sample - loss: 0.1468 - accuracy: 0.9491 - val_loss: 0.2436 - val_accuracy: 0.9204\n",
      "Epoch 2/3\n",
      "55000/55000 [==============================] - 322s 6ms/sample - loss: 0.1312 - accuracy: 0.9538 - val_loss: 0.2373 - val_accuracy: 0.9252\n",
      "Epoch 3/3\n",
      "55000/55000 [==============================] - 324s 6ms/sample - loss: 0.1213 - accuracy: 0.9575 - val_loss: 0.2568 - val_accuracy: 0.9214\n"
     ]
    }
   ],
   "source": [
    "# train the model\n",
    "import numpy as np # convert original data to 1 more dimension since it was gray scale\n",
    "X_train_exp = np.expand_dims(X_train, axis = 3)\n",
    "X_valid_exp = np.expand_dims(X_valid, axis = 3)\n",
    "X_test_exp = np.expand_dims(X_test, axis = 3)\n",
    "\n",
    "history2= model2.fit(X_train_exp, y_train, epochs=3, batch_size=200, validation_data=(X_valid_exp, y_valid))\n",
    "# training accuracy is mean accuracy, while val accuracy is ending accuracy, not quite comparable for overfitting testing."
   ]
  },
  {
   "cell_type": "code",
   "execution_count": 54,
   "metadata": {},
   "outputs": [
    {
     "data": {
      "text/plain": [
       "<matplotlib.axes._subplots.AxesSubplot at 0x163659210>"
      ]
     },
     "execution_count": 54,
     "metadata": {},
     "output_type": "execute_result"
    },
    {
     "data": {
      "image/png": "[encoded data removed]",
      "text/plain": [
       "<Figure size 720x360 with 1 Axes>"
      ]
     },
     "metadata": {
      "needs_background": "light"
     },
     "output_type": "display_data"
    }
   ],
   "source": [
    "pd.DataFrame(history2.history).plot(figsize = (10,5))"
   ]
  },
  {
   "cell_type": "code",
   "execution_count": 69,
   "metadata": {},
   "outputs": [],
   "source": [
    "# alternative way of model creation\n",
    "model3 = keras.models.Sequential([\n",
    "    keras.layers.Conv2D(64, 7, activation='relu', padding='same', input_shape=[28,28,1]),\n",
    "    keras.layers.MaxPool2D(2),\n",
    "    keras.layers.Conv2D(128, 3, activation='relu', padding='same'),\n",
    "    keras.layers.Conv2D(128, 3, activation='relu', padding='same'),\n",
    "    keras.layers.MaxPool2D(2),\n",
    "    keras.layers.Conv2D(256, 3, activation='relu', padding='same'),\n",
    "    keras.layers.Conv2D(256, 3, activation='relu', padding='same'),\n",
    "    keras.layers.Flatten(),\n",
    "    keras.layers.Dense(128, activation='relu'),\n",
    "    keras.layers.Dropout(0.5),\n",
    "    keras.layers.Dense(64, activation='relu'),\n",
    "    keras.layers.Dropout(0.5), \n",
    "    keras.layers.Dense(10, activation='softmax')\n",
    "])"
   ]
  },
  {
   "cell_type": "code",
   "execution_count": 61,
   "metadata": {},
   "outputs": [
    {
     "name": "stdout",
     "output_type": "stream",
     "text": [
      "Model: \"sequential_4\"\n",
      "_________________________________________________________________\n",
      "Layer (type)                 Output Shape              Param #   \n",
      "=================================================================\n",
      "conv2d_12 (Conv2D)           (None, 28, 28, 64)        3200      \n",
      "_________________________________________________________________\n",
      "max_pooling2d_5 (MaxPooling2 (None, 14, 14, 64)        0         \n",
      "_________________________________________________________________\n",
      "conv2d_13 (Conv2D)           (None, 14, 14, 128)       73856     \n",
      "_________________________________________________________________\n",
      "conv2d_14 (Conv2D)           (None, 14, 14, 128)       147584    \n",
      "_________________________________________________________________\n",
      "max_pooling2d_6 (MaxPooling2 (None, 7, 7, 128)         0         \n",
      "_________________________________________________________________\n",
      "conv2d_15 (Conv2D)           (None, 7, 7, 256)         295168    \n",
      "_________________________________________________________________\n",
      "conv2d_16 (Conv2D)           (None, 7, 7, 256)         590080    \n",
      "_________________________________________________________________\n",
      "flatten_3 (Flatten)          (None, 12544)             0         \n",
      "_________________________________________________________________\n",
      "dense_11 (Dense)             (None, 128)               1605760   \n",
      "_________________________________________________________________\n",
      "dropout_4 (Dropout)          (None, 128)               0         \n",
      "_________________________________________________________________\n",
      "dense_12 (Dense)             (None, 64)                8256      \n",
      "_________________________________________________________________\n",
      "dropout_5 (Dropout)          (None, 64)                0         \n",
      "=================================================================\n",
      "Total params: 2,723,904\n",
      "Trainable params: 2,723,904\n",
      "Non-trainable params: 0\n",
      "_________________________________________________________________\n"
     ]
    }
   ],
   "source": [
    "model3.summary()"
   ]
  },
  {
   "cell_type": "code",
   "execution_count": 71,
   "metadata": {
    "jupyter": {
     "source_hidden": true
    }
   },
   "outputs": [],
   "source": [
    "# alternative way of model creation\n",
    "from tensorflow import keras\n",
    "from keras import models, layers\n",
    "from keras.models import Sequential\n",
    "from keras.layers import Conv2D, MaxPool2D, Flatten, Dense, Dropout\n",
    "model4 = Sequential([\n",
    "    Conv2D(64, 7, activation='relu', padding='same', input_shape=[28,28,1]),\n",
    "    MaxPool2D(2),\n",
    "    Conv2D(128, 3, activation='relu', padding='same'),\n",
    "    Conv2D(128, 3, activation='relu', padding='same'),\n",
    "    MaxPool2D(2),\n",
    "    Conv2D(256, 3, activation='relu', padding='same'),\n",
    "    Conv2D(256, 3, activation='relu', padding='same'),\n",
    "    Flatten(),\n",
    "    Dense(128, activation='relu'),\n",
    "    Dropout(0.5),\n",
    "    Dense(64, activation='relu'),\n",
    "    Dropout(0.5) ,\n",
    "    Dense(10, activation='softmax')\n",
    "])"
   ]
  },
  {
   "cell_type": "code",
   "execution_count": 72,
   "metadata": {},
   "outputs": [
    {
     "name": "stdout",
     "output_type": "stream",
     "text": [
      "Model: \"sequential_3\"\n",
      "_________________________________________________________________\n",
      "Layer (type)                 Output Shape              Param #   \n",
      "=================================================================\n",
      "conv2d_6 (Conv2D)            (None, 28, 28, 64)        3200      \n",
      "_________________________________________________________________\n",
      "max_pooling2d_3 (MaxPooling2 (None, 14, 14, 64)        0         \n",
      "_________________________________________________________________\n",
      "conv2d_7 (Conv2D)            (None, 14, 14, 128)       73856     \n",
      "_________________________________________________________________\n",
      "conv2d_8 (Conv2D)            (None, 14, 14, 128)       147584    \n",
      "_________________________________________________________________\n",
      "max_pooling2d_4 (MaxPooling2 (None, 7, 7, 128)         0         \n",
      "_________________________________________________________________\n",
      "conv2d_9 (Conv2D)            (None, 7, 7, 256)         295168    \n",
      "_________________________________________________________________\n",
      "conv2d_10 (Conv2D)           (None, 7, 7, 256)         590080    \n",
      "_________________________________________________________________\n",
      "flatten_2 (Flatten)          (None, 12544)             0         \n",
      "_________________________________________________________________\n",
      "dense_3 (Dense)              (None, 128)               1605760   \n",
      "_________________________________________________________________\n",
      "dropout_3 (Dropout)          (None, 128)               0         \n",
      "_________________________________________________________________\n",
      "dense_4 (Dense)              (None, 64)                8256      \n",
      "_________________________________________________________________\n",
      "dropout_4 (Dropout)          (None, 64)                0         \n",
      "_________________________________________________________________\n",
      "dense_5 (Dense)              (None, 10)                650       \n",
      "=================================================================\n",
      "Total params: 2,724,554\n",
      "Trainable params: 2,724,554\n",
      "Non-trainable params: 0\n",
      "_________________________________________________________________\n"
     ]
    }
   ],
   "source": [
    "model4.summary()"
   ]
  },
  {
   "cell_type": "code",
   "execution_count": null,
   "metadata": {},
   "outputs": [],
   "source": []
  }
 ],
 "metadata": {
  "kernelspec": {
   "display_name": "Python 3",
   "language": "python",
   "name": "python3"
  },
  "language_info": {
   "codemirror_mode": {
    "name": "ipython",
    "version": 3
   },
   "file_extension": ".py",
   "mimetype": "text/x-python",
   "name": "python",
   "nbconvert_exporter": "python",
   "pygments_lexer": "ipython3",
   "version": "3.7.4"
  }
 },
 "nbformat": 4,
 "nbformat_minor": 4
}
