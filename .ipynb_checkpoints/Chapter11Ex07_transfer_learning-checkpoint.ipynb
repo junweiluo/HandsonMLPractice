{
 "cells": [
  {
   "cell_type": "code",
   "execution_count": 1,
   "metadata": {},
   "outputs": [
    {
     "name": "stderr",
     "output_type": "stream",
     "text": [
      "/Users/junweiluo/anaconda3/lib/python3.7/site-packages/tensorboard/compat/tensorflow_stub/dtypes.py:541: FutureWarning: Passing (type, 1) or '1type' as a synonym of type is deprecated; in a future version of numpy, it will be understood as (type, (1,)) / '(1,)type'.\n",
      "  _np_qint8 = np.dtype([(\"qint8\", np.int8, 1)])\n",
      "/Users/junweiluo/anaconda3/lib/python3.7/site-packages/tensorboard/compat/tensorflow_stub/dtypes.py:542: FutureWarning: Passing (type, 1) or '1type' as a synonym of type is deprecated; in a future version of numpy, it will be understood as (type, (1,)) / '(1,)type'.\n",
      "  _np_quint8 = np.dtype([(\"quint8\", np.uint8, 1)])\n",
      "/Users/junweiluo/anaconda3/lib/python3.7/site-packages/tensorboard/compat/tensorflow_stub/dtypes.py:543: FutureWarning: Passing (type, 1) or '1type' as a synonym of type is deprecated; in a future version of numpy, it will be understood as (type, (1,)) / '(1,)type'.\n",
      "  _np_qint16 = np.dtype([(\"qint16\", np.int16, 1)])\n",
      "/Users/junweiluo/anaconda3/lib/python3.7/site-packages/tensorboard/compat/tensorflow_stub/dtypes.py:544: FutureWarning: Passing (type, 1) or '1type' as a synonym of type is deprecated; in a future version of numpy, it will be understood as (type, (1,)) / '(1,)type'.\n",
      "  _np_quint16 = np.dtype([(\"quint16\", np.uint16, 1)])\n",
      "/Users/junweiluo/anaconda3/lib/python3.7/site-packages/tensorboard/compat/tensorflow_stub/dtypes.py:545: FutureWarning: Passing (type, 1) or '1type' as a synonym of type is deprecated; in a future version of numpy, it will be understood as (type, (1,)) / '(1,)type'.\n",
      "  _np_qint32 = np.dtype([(\"qint32\", np.int32, 1)])\n",
      "/Users/junweiluo/anaconda3/lib/python3.7/site-packages/tensorboard/compat/tensorflow_stub/dtypes.py:550: FutureWarning: Passing (type, 1) or '1type' as a synonym of type is deprecated; in a future version of numpy, it will be understood as (type, (1,)) / '(1,)type'.\n",
      "  np_resource = np.dtype([(\"resource\", np.ubyte, 1)])\n"
     ]
    }
   ],
   "source": [
    "import tensorflow as tf\n",
    "from tensorflow import keras\n",
    "import numpy as np"
   ]
  },
  {
   "cell_type": "code",
   "execution_count": 2,
   "metadata": {},
   "outputs": [],
   "source": [
    "(X_train_full, y_train_full), (X_test, y_test) = keras.datasets.fashion_mnist.load_data()\n",
    "X_train_full = X_train_full / 255.0\n",
    "X_test = X_test / 255.0\n",
    "X_valid, X_train = X_train_full[:5000], X_train_full[5000:]\n",
    "y_valid, y_train = y_train_full[:5000], y_train_full[5000:]"
   ]
  },
  {
   "cell_type": "code",
   "execution_count": 3,
   "metadata": {},
   "outputs": [],
   "source": [
    "def split_dataset(X, y):\n",
    "    y_5_or_6 = (y == 5) | (y == 6) # sandals or shirts\n",
    "    y_A = y[~y_5_or_6]\n",
    "    y_A[y_A > 6] -= 2 # class indices 7, 8, 9 should be moved to 5, 6, 7\n",
    "    y_B = (y[y_5_or_6] == 6).astype(np.float32) # binary classification task: is it a shirt (class 6)?\n",
    "    return ((X[~y_5_or_6], y_A),\n",
    "            (X[y_5_or_6], y_B))\n",
    "\n",
    "(X_train_A, y_train_A), (X_train_B, y_train_B) = split_dataset(X_train, y_train)\n",
    "(X_valid_A, y_valid_A), (X_valid_B, y_valid_B) = split_dataset(X_valid, y_valid)\n",
    "(X_test_A, y_test_A), (X_test_B, y_test_B) = split_dataset(X_test, y_test)\n",
    "X_train_B = X_train_B[:200]\n",
    "y_train_B = y_train_B[:200]"
   ]
  },
  {
   "cell_type": "code",
   "execution_count": 4,
   "metadata": {},
   "outputs": [
    {
     "data": {
      "text/plain": [
       "(43986, 28, 28)"
      ]
     },
     "execution_count": 4,
     "metadata": {},
     "output_type": "execute_result"
    }
   ],
   "source": [
    "X_train_A.shape"
   ]
  },
  {
   "cell_type": "code",
   "execution_count": 5,
   "metadata": {},
   "outputs": [],
   "source": [
    "model_A = keras.models.Sequential()\n",
    "model_A.add(keras.layers.Flatten(input_shape=[28, 28]))\n",
    "for n_hidden in (300, 100, 50, 50, 50):\n",
    "    model_A.add(keras.layers.Dense(n_hidden, activation=\"selu\"))\n",
    "model_A.add(keras.layers.Dense(8, activation=\"softmax\"))"
   ]
  },
  {
   "cell_type": "code",
   "execution_count": 6,
   "metadata": {},
   "outputs": [
    {
     "name": "stdout",
     "output_type": "stream",
     "text": [
      "Model: \"sequential\"\n",
      "_________________________________________________________________\n",
      "Layer (type)                 Output Shape              Param #   \n",
      "=================================================================\n",
      "flatten (Flatten)            (None, 784)               0         \n",
      "_________________________________________________________________\n",
      "dense (Dense)                (None, 300)               235500    \n",
      "_________________________________________________________________\n",
      "dense_1 (Dense)              (None, 100)               30100     \n",
      "_________________________________________________________________\n",
      "dense_2 (Dense)              (None, 50)                5050      \n",
      "_________________________________________________________________\n",
      "dense_3 (Dense)              (None, 50)                2550      \n",
      "_________________________________________________________________\n",
      "dense_4 (Dense)              (None, 50)                2550      \n",
      "_________________________________________________________________\n",
      "dense_5 (Dense)              (None, 8)                 408       \n",
      "=================================================================\n",
      "Total params: 276,158\n",
      "Trainable params: 276,158\n",
      "Non-trainable params: 0\n",
      "_________________________________________________________________\n"
     ]
    }
   ],
   "source": [
    "model_A.summary()"
   ]
  },
  {
   "cell_type": "code",
   "execution_count": 7,
   "metadata": {},
   "outputs": [],
   "source": [
    "model_A.compile(loss=\"sparse_categorical_crossentropy\",\n",
    "                optimizer=keras.optimizers.SGD(lr=1e-3),\n",
    "                metrics=[\"accuracy\"])"
   ]
  },
  {
   "cell_type": "code",
   "execution_count": 8,
   "metadata": {
    "collapsed": true,
    "jupyter": {
     "outputs_hidden": true
    }
   },
   "outputs": [
    {
     "name": "stdout",
     "output_type": "stream",
     "text": [
      "Train on 43986 samples, validate on 4014 samples\n",
      "Epoch 1/20\n",
      "43986/43986 [==============================] - 5s 105us/sample - loss: 0.5504 - accuracy: 0.8190 - val_loss: 0.3747 - val_accuracy: 0.8747\n",
      "Epoch 2/20\n",
      "43986/43986 [==============================] - 4s 94us/sample - loss: 0.3484 - accuracy: 0.8800 - val_loss: 0.3198 - val_accuracy: 0.8936\n",
      "Epoch 3/20\n",
      "43986/43986 [==============================] - 3s 74us/sample - loss: 0.3130 - accuracy: 0.8909 - val_loss: 0.3062 - val_accuracy: 0.8981\n",
      "Epoch 4/20\n",
      "43986/43986 [==============================] - 3s 73us/sample - loss: 0.2940 - accuracy: 0.8984 - val_loss: 0.2853 - val_accuracy: 0.9068\n",
      "Epoch 5/20\n",
      "43986/43986 [==============================] - 3s 70us/sample - loss: 0.2808 - accuracy: 0.9031 - val_loss: 0.2779 - val_accuracy: 0.9088\n",
      "Epoch 6/20\n",
      "43986/43986 [==============================] - 3s 76us/sample - loss: 0.2718 - accuracy: 0.9068 - val_loss: 0.2662 - val_accuracy: 0.9133\n",
      "Epoch 7/20\n",
      "43986/43986 [==============================] - 4s 100us/sample - loss: 0.2643 - accuracy: 0.9099 - val_loss: 0.2628 - val_accuracy: 0.9101\n",
      "Epoch 8/20\n",
      "43986/43986 [==============================] - 4s 92us/sample - loss: 0.2585 - accuracy: 0.9122 - val_loss: 0.2605 - val_accuracy: 0.9111\n",
      "Epoch 9/20\n",
      "43986/43986 [==============================] - 3s 78us/sample - loss: 0.2528 - accuracy: 0.9142 - val_loss: 0.2586 - val_accuracy: 0.9113\n",
      "Epoch 10/20\n",
      "43986/43986 [==============================] - 4s 87us/sample - loss: 0.2484 - accuracy: 0.9157 - val_loss: 0.2467 - val_accuracy: 0.9160\n",
      "Epoch 11/20\n",
      "43986/43986 [==============================] - 3s 72us/sample - loss: 0.2447 - accuracy: 0.9156 - val_loss: 0.2470 - val_accuracy: 0.9145\n",
      "Epoch 12/20\n",
      "43986/43986 [==============================] - 3s 72us/sample - loss: 0.2406 - accuracy: 0.9179 - val_loss: 0.2506 - val_accuracy: 0.9143\n",
      "Epoch 13/20\n",
      "43986/43986 [==============================] - 3s 70us/sample - loss: 0.2371 - accuracy: 0.9196 - val_loss: 0.2414 - val_accuracy: 0.9173\n",
      "Epoch 14/20\n",
      "43986/43986 [==============================] - 4s 84us/sample - loss: 0.2343 - accuracy: 0.9191 - val_loss: 0.2405 - val_accuracy: 0.9160\n",
      "Epoch 15/20\n",
      "43986/43986 [==============================] - 4s 88us/sample - loss: 0.2311 - accuracy: 0.9214 - val_loss: 0.2430 - val_accuracy: 0.9138\n",
      "Epoch 16/20\n",
      "43986/43986 [==============================] - 4s 85us/sample - loss: 0.2287 - accuracy: 0.9215 - val_loss: 0.2378 - val_accuracy: 0.9173\n",
      "Epoch 17/20\n",
      "43986/43986 [==============================] - 4s 95us/sample - loss: 0.2258 - accuracy: 0.9227 - val_loss: 0.2379 - val_accuracy: 0.9165\n",
      "Epoch 18/20\n",
      "43986/43986 [==============================] - 4s 90us/sample - loss: 0.2239 - accuracy: 0.9230 - val_loss: 0.2375 - val_accuracy: 0.9158\n",
      "Epoch 19/20\n",
      "43986/43986 [==============================] - 3s 73us/sample - loss: 0.2213 - accuracy: 0.9234 - val_loss: 0.2343 - val_accuracy: 0.9170\n",
      "Epoch 20/20\n",
      "43986/43986 [==============================] - 4s 82us/sample - loss: 0.2190 - accuracy: 0.9243 - val_loss: 0.2402 - val_accuracy: 0.9165\n"
     ]
    }
   ],
   "source": [
    "history = model_A.fit(X_train_A, y_train_A, epochs=20,\n",
    "                    validation_data=(X_valid_A, y_valid_A))"
   ]
  },
  {
   "cell_type": "code",
   "execution_count": 9,
   "metadata": {},
   "outputs": [],
   "source": [
    "model_A.save(\"model_A.h5\")"
   ]
  },
  {
   "cell_type": "code",
   "execution_count": 11,
   "metadata": {},
   "outputs": [],
   "source": [
    "model_A = keras.models.load_model(\"model_A.h5\")"
   ]
  },
  {
   "cell_type": "code",
   "execution_count": 12,
   "metadata": {},
   "outputs": [],
   "source": [
    "model_B_on_A = keras.models.Sequential(model_A.layers[:-1])"
   ]
  },
  {
   "cell_type": "code",
   "execution_count": 13,
   "metadata": {},
   "outputs": [],
   "source": [
    "model_B_on_A.add(keras.layers.Dense(1, activation='sigmoid'))"
   ]
  },
  {
   "cell_type": "code",
   "execution_count": null,
   "metadata": {},
   "outputs": [],
   "source": []
  }
 ],
 "metadata": {
  "kernelspec": {
   "display_name": "Python 3",
   "language": "python",
   "name": "python3"
  },
  "language_info": {
   "codemirror_mode": {
    "name": "ipython",
    "version": 3
   },
   "file_extension": ".py",
   "mimetype": "text/x-python",
   "name": "python",
   "nbconvert_exporter": "python",
   "pygments_lexer": "ipython3",
   "version": "3.7.4"
  }
 },
 "nbformat": 4,
 "nbformat_minor": 4
}
