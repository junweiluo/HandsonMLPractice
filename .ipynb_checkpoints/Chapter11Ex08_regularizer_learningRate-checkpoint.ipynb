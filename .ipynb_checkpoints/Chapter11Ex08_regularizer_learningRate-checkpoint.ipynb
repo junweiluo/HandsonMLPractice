{
 "cells": [
  {
   "cell_type": "code",
   "execution_count": 4,
   "metadata": {},
   "outputs": [],
   "source": [
    "import tensorflow as tf\n",
    "from tensorflow import keras\n",
    "import numpy as np"
   ]
  },
  {
   "cell_type": "code",
   "execution_count": 5,
   "metadata": {},
   "outputs": [],
   "source": [
    "(X_train_full, y_train_full), (X_test, y_test) = keras.datasets.fashion_mnist.load_data()\n",
    "X_train_full = X_train_full / 255.0\n",
    "X_test = X_test / 255.0\n",
    "X_valid, X_train = X_train_full[:5000], X_train_full[5000:]\n",
    "y_valid, y_train = y_train_full[:5000], y_train_full[5000:]"
   ]
  },
  {
   "cell_type": "code",
   "execution_count": 12,
   "metadata": {},
   "outputs": [],
   "source": [
    "model = keras.models.Sequential([\n",
    "    keras.layers.Flatten(input_shape=[28, 28]),\n",
    "    keras.layers.Dense(30, activation='relu'),\n",
    "   # keras.layers.ReLU,\n",
    "    keras.layers.BatchNormalization(),\n",
    "    keras.layers.Dense(100, \n",
    "                       kernel_initializer=\"he_normal\", \n",
    "                       kernel_regularizer=keras.regularizers.l2(0.01),  # notice regularizer\n",
    "                       activation='relu'),\n",
    "    keras.layers.Dropout(rate=0.2), # drop out layer\n",
    "    #keras.layers.LeakyReLU(),\n",
    "    keras.layers.BatchNormalization(),\n",
    "    keras.layers.Dense(10, activation='softmax')\n",
    "])"
   ]
  },
  {
   "cell_type": "code",
   "execution_count": 18,
   "metadata": {},
   "outputs": [],
   "source": [
    "optimizer=keras.optimizers.SGD(clipvalue=1, lr=1e-3) # notice lr can be adjusted."
   ]
  },
  {
   "cell_type": "code",
   "execution_count": 19,
   "metadata": {},
   "outputs": [],
   "source": [
    "model.compile(loss=\"sparse_categorical_crossentropy\",\n",
    "              optimizer=optimizer,\n",
    "              metrics=[\"accuracy\"])"
   ]
  },
  {
   "cell_type": "code",
   "execution_count": 26,
   "metadata": {},
   "outputs": [],
   "source": [
    "optimizer=keras.optimizers.SGD(clipnorm=1, lr=1e-3)"
   ]
  },
  {
   "cell_type": "code",
   "execution_count": 30,
   "metadata": {},
   "outputs": [],
   "source": [
    "optimizer=keras.optimizers.Adam(lr=0.001, clipvalue=1)"
   ]
  },
  {
   "cell_type": "code",
   "execution_count": 31,
   "metadata": {},
   "outputs": [],
   "source": [
    "model.compile(loss=\"sparse_categorical_crossentropy\",\n",
    "              optimizer=optimizer,\n",
    "              metrics=[\"accuracy\"])"
   ]
  },
  {
   "cell_type": "code",
   "execution_count": 32,
   "metadata": {},
   "outputs": [
    {
     "name": "stdout",
     "output_type": "stream",
     "text": [
      "Train on 55000 samples, validate on 5000 samples\n",
      "Epoch 1/10\n",
      "55000/55000 [==============================] - 6s 101us/sample - loss: 0.2684 - accuracy: 0.9007 - val_loss: 0.3473 - val_accuracy: 0.8804\n",
      "Epoch 2/10\n",
      "55000/55000 [==============================] - 5s 92us/sample - loss: 0.2641 - accuracy: 0.9014 - val_loss: 0.3399 - val_accuracy: 0.8830\n",
      "Epoch 3/10\n",
      "55000/55000 [==============================] - 5s 93us/sample - loss: 0.2626 - accuracy: 0.9028 - val_loss: 0.3656 - val_accuracy: 0.8760\n",
      "Epoch 4/10\n",
      "55000/55000 [==============================] - 5s 90us/sample - loss: 0.2606 - accuracy: 0.9022 - val_loss: 0.3725 - val_accuracy: 0.8738\n",
      "Epoch 5/10\n",
      "55000/55000 [==============================] - 5s 98us/sample - loss: 0.2582 - accuracy: 0.9051 - val_loss: 0.3439 - val_accuracy: 0.8822\n",
      "Epoch 6/10\n",
      "55000/55000 [==============================] - 5s 95us/sample - loss: 0.2566 - accuracy: 0.9045 - val_loss: 0.3386 - val_accuracy: 0.8850\n",
      "Epoch 7/10\n",
      "55000/55000 [==============================] - 6s 107us/sample - loss: 0.2608 - accuracy: 0.9034 - val_loss: 0.3364 - val_accuracy: 0.8844\n",
      "Epoch 8/10\n",
      "55000/55000 [==============================] - 5s 93us/sample - loss: 0.2586 - accuracy: 0.9045 - val_loss: 0.3418 - val_accuracy: 0.8834\n",
      "Epoch 9/10\n",
      "55000/55000 [==============================] - 6s 102us/sample - loss: 0.2552 - accuracy: 0.9045 - val_loss: 0.3558 - val_accuracy: 0.8774\n",
      "Epoch 10/10\n",
      "55000/55000 [==============================] - 5s 97us/sample - loss: 0.2541 - accuracy: 0.9049 - val_loss: 0.3498 - val_accuracy: 0.8770\n"
     ]
    }
   ],
   "source": [
    "# add batch size so this is a mini-batch gradien descent.\n",
    "history = model.fit(X_train, y_train, batch_size=20, epochs=10,\n",
    "                    validation_data=(X_valid, y_valid))  #batch size meaning this is minibatch."
   ]
  },
  {
   "cell_type": "code",
   "execution_count": null,
   "metadata": {},
   "outputs": [],
   "source": []
  }
 ],
 "metadata": {
  "kernelspec": {
   "display_name": "Python 3",
   "language": "python",
   "name": "python3"
  },
  "language_info": {
   "codemirror_mode": {
    "name": "ipython",
    "version": 3
   },
   "file_extension": ".py",
   "mimetype": "text/x-python",
   "name": "python",
   "nbconvert_exporter": "python",
   "pygments_lexer": "ipython3",
   "version": "3.7.4"
  }
 },
 "nbformat": 4,
 "nbformat_minor": 4
}
