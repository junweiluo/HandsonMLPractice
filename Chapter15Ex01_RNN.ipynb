{
  "nbformat": 4,
  "nbformat_minor": 0,
  "metadata": {
    "colab": {
      "name": "Chapter15Ex01_RNN.ipynb",
      "provenance": [],
      "authorship_tag": "ABX9TyNmiJ/eKGFohjTu2GK94VoU",
      "include_colab_link": true
    },
    "kernelspec": {
      "name": "python3",
      "display_name": "Python 3"
    },
    "accelerator": "GPU"
  },
  "cells": [
    {
      "cell_type": "markdown",
      "metadata": {
        "id": "view-in-github",
        "colab_type": "text"
      },
      "source": [
        "<a href=\"https://colab.research.google.com/github/junweiluo/HandsonMLPractice/blob/master/Chapter15Ex01_RNN.ipynb\" target=\"_parent\"><img src=\"https://colab.research.google.com/assets/colab-badge.svg\" alt=\"Open In Colab\"/></a>"
      ]
    },
    {
      "cell_type": "code",
      "metadata": {
        "id": "4x9V7utxMBej",
        "colab_type": "code",
        "colab": {
          "base_uri": "https://localhost:8080/",
          "height": 67
        },
        "outputId": "07e62d90-e463-4adb-daae-b4d54101af4c"
      },
      "source": [
        "# Python ≥3.5 is required\n",
        "import sys\n",
        "assert sys.version_info >= (3, 5)\n",
        "\n",
        "# Scikit-Learn ≥0.20 is required\n",
        "import sklearn\n",
        "assert sklearn.__version__ >= \"0.20\"\n",
        "\n",
        "try:\n",
        "    # %tensorflow_version only exists in Colab.\n",
        "    %tensorflow_version 2.x\n",
        "    IS_COLAB = True\n",
        "except Exception:\n",
        "    IS_COLAB = False\n",
        "\n",
        "# TensorFlow ≥2.0 is required\n",
        "import tensorflow as tf\n",
        "from tensorflow import keras\n",
        "assert tf.__version__ >= \"2.0\"\n",
        "\n",
        "if not tf.test.is_gpu_available():\n",
        "    print(\"No GPU was detected. LSTMs and CNNs can be very slow without a GPU.\")\n",
        "    if IS_COLAB:\n",
        "        print(\"Go to Runtime > Change runtime and select a GPU hardware accelerator.\")\n",
        "\n",
        "# Common imports\n",
        "import numpy as np\n",
        "import os\n",
        "\n",
        "# to make this notebook's output stable across runs\n",
        "np.random.seed(42)\n",
        "tf.random.set_seed(42)\n",
        "\n",
        "# To plot pretty figures\n",
        "%matplotlib inline\n",
        "import matplotlib as mpl\n",
        "import matplotlib.pyplot as plt\n",
        "mpl.rc('axes', labelsize=14)\n",
        "mpl.rc('xtick', labelsize=12)\n",
        "mpl.rc('ytick', labelsize=12)\n",
        "\n",
        "# Where to save the figures\n",
        "PROJECT_ROOT_DIR = \".\"\n",
        "CHAPTER_ID = \"rnn\"\n",
        "IMAGES_PATH = os.path.join(PROJECT_ROOT_DIR, \"images\", CHAPTER_ID)\n",
        "os.makedirs(IMAGES_PATH, exist_ok=True)\n",
        "\n",
        "def save_fig(fig_id, tight_layout=True, fig_extension=\"png\", resolution=300):\n",
        "    path = os.path.join(IMAGES_PATH, fig_id + \".\" + fig_extension)\n",
        "    print(\"Saving figure\", fig_id)\n",
        "    if tight_layout:\n",
        "        plt.tight_layout()\n",
        "    plt.savefig(path, format=fig_extension, dpi=resolution)"
      ],
      "execution_count": 1,
      "outputs": [
        {
          "output_type": "stream",
          "text": [
            "WARNING:tensorflow:From <ipython-input-1-85b4f3717e2e>:21: is_gpu_available (from tensorflow.python.framework.test_util) is deprecated and will be removed in a future version.\n",
            "Instructions for updating:\n",
            "Use `tf.config.list_physical_devices('GPU')` instead.\n"
          ],
          "name": "stdout"
        }
      ]
    },
    {
      "cell_type": "code",
      "metadata": {
        "id": "dDZIlL5tNTld",
        "colab_type": "code",
        "colab": {}
      },
      "source": [
        "def generate_time_series(batch_size, n_steps):\n",
        "    freq1, freq2, offsets1, offsets2 = np.random.rand(4, batch_size, 1)\n",
        "    time = np.linspace(0, 1, n_steps)\n",
        "    series = 0.5 * np.sin((time - offsets1) * (freq1 * 10 + 10))  #   wave 1\n",
        "    series += 0.2 * np.sin((time - offsets2) * (freq2 * 20 + 20)) # + wave 2\n",
        "    series += 0.1 * (np.random.rand(batch_size, n_steps) - 0.5)   # + noise\n",
        "    return series[..., np.newaxis].astype(np.float32)"
      ],
      "execution_count": 0,
      "outputs": []
    },
    {
      "cell_type": "code",
      "metadata": {
        "id": "U6T-bmXmNZuw",
        "colab_type": "code",
        "colab": {}
      },
      "source": [
        "np.random.seed(42)\n",
        "\n",
        "n_steps = 50\n",
        "series = generate_time_series(10000, n_steps + 1)\n",
        "X_train, y_train = series[:7000, :n_steps], series[:7000, -1]\n",
        "X_valid, y_valid = series[7000:9000, :n_steps], series[7000:9000, -1]\n",
        "X_test, y_test = series[9000:, :n_steps], series[9000:, -1]"
      ],
      "execution_count": 0,
      "outputs": []
    },
    {
      "cell_type": "code",
      "metadata": {
        "id": "5wfwGIxhNZ0v",
        "colab_type": "code",
        "colab": {
          "base_uri": "https://localhost:8080/",
          "height": 34
        },
        "outputId": "e2081e9f-292f-4cfe-96b8-acf44fba62f4"
      },
      "source": [
        "X_train.shape, y_train.shape # this is a typical seq2vec RNN model as from the predictor and target shape. 50 to 1."
      ],
      "execution_count": 4,
      "outputs": [
        {
          "output_type": "execute_result",
          "data": {
            "text/plain": [
              "((7000, 50, 1), (7000, 1))"
            ]
          },
          "metadata": {
            "tags": []
          },
          "execution_count": 4
        }
      ]
    },
    {
      "cell_type": "code",
      "metadata": {
        "id": "lEhCaZ0klWiN",
        "colab_type": "code",
        "colab": {
          "base_uri": "https://localhost:8080/",
          "height": 34
        },
        "outputId": "550dbbce-7421-452b-bc95-548ae7a59824"
      },
      "source": [
        "X_train[0:1,0:1,:]"
      ],
      "execution_count": 5,
      "outputs": [
        {
          "output_type": "execute_result",
          "data": {
            "text/plain": [
              "array([[[0.4596948]]], dtype=float32)"
            ]
          },
          "metadata": {
            "tags": []
          },
          "execution_count": 5
        }
      ]
    },
    {
      "cell_type": "code",
      "metadata": {
        "id": "aesoPDtclm9F",
        "colab_type": "code",
        "colab": {
          "base_uri": "https://localhost:8080/",
          "height": 34
        },
        "outputId": "13e5b728-83db-49bb-a0c4-5b426761d22a"
      },
      "source": [
        "y_train[:2,0]"
      ],
      "execution_count": 6,
      "outputs": [
        {
          "output_type": "execute_result",
          "data": {
            "text/plain": [
              "array([-0.35489398,  0.11629631], dtype=float32)"
            ]
          },
          "metadata": {
            "tags": []
          },
          "execution_count": 6
        }
      ]
    },
    {
      "cell_type": "code",
      "metadata": {
        "id": "jFYKNpiVNZ3-",
        "colab_type": "code",
        "colab": {
          "base_uri": "https://localhost:8080/",
          "height": 314
        },
        "outputId": "ae0b9fbd-617c-4341-a744-c599818030fc"
      },
      "source": [
        "def plot_series(series, y=None, y_pred=None, x_label=\"$t$\", y_label=\"$x(t)$\"):\n",
        "    plt.plot(series, \".-\")\n",
        "    if y is not None:\n",
        "        plt.plot(n_steps, y, \"bx\", markersize=10)\n",
        "    if y_pred is not None:\n",
        "        plt.plot(n_steps, y_pred, \"ro\")\n",
        "    plt.grid(True)\n",
        "    if x_label:\n",
        "        plt.xlabel(x_label, fontsize=16)\n",
        "    if y_label:\n",
        "        plt.ylabel(y_label, fontsize=16, rotation=0)\n",
        "    plt.hlines(0, 0, 100, linewidth=1)\n",
        "    plt.axis([0, n_steps + 1, -1, 1])\n",
        "\n",
        "fig, axes = plt.subplots(nrows=1, ncols=3, sharey=True, figsize=(12, 4))\n",
        "for col in range(3):\n",
        "    plt.sca(axes[col])\n",
        "    plot_series(X_valid[col, :, 0], y_valid[col, 0],\n",
        "                y_label=(\"$x(t)$\" if col==0 else None))\n",
        "save_fig(\"time_series_plot\")\n",
        "plt.show()"
      ],
      "execution_count": 7,
      "outputs": [
        {
          "output_type": "stream",
          "text": [
            "Saving figure time_series_plot\n"
          ],
          "name": "stdout"
        },
        {
          "output_type": "display_data",
          "data": {
            "image/png": "[encoded data removed]",
            "text/plain": [
              "<Figure size 864x288 with 3 Axes>"
            ]
          },
          "metadata": {
            "tags": [],
            "needs_background": "light"
          }
        }
      ]
    },
    {
      "cell_type": "markdown",
      "metadata": {
        "id": "qKLtqxrmOTWL",
        "colab_type": "text"
      },
      "source": [
        "Simple RNN - forecasting one step"
      ]
    },
    {
      "cell_type": "code",
      "metadata": {
        "id": "hYSNGZDqNZ9X",
        "colab_type": "code",
        "colab": {}
      },
      "source": [
        "np.random.seed(42)\n",
        "tf.random.set_seed(42)\n",
        "\n",
        "model = keras.models.Sequential([\n",
        "    keras.layers.SimpleRNN(units= 10, input_shape=[None, 1]) # input shape is none because we don't know how many time steps.\n",
        "    # The 1 in input shape correspondes to the last 1 in X_train and y_train.\n",
        "    # the number of neurons (units) can be modified without other changes.\n",
        "    # The number of neurons is only within a cell and is consistent across all time steps.\n",
        "    # default function: hyperbolic tangent\n",
        "    # this is a univariate time series, forecasting only one result.\n",
        "])"
      ],
      "execution_count": 0,
      "outputs": []
    },
    {
      "cell_type": "code",
      "metadata": {
        "id": "EKxhsFovkw3o",
        "colab_type": "code",
        "colab": {
          "base_uri": "https://localhost:8080/",
          "height": 185
        },
        "outputId": "c822129f-9a1e-4cec-ef02-5b8dd0becd20"
      },
      "source": [
        "model.summary() # no. of parameters = 1 * 10 (neuron last layer * no. of units) +10 * 10 (no. of units * no. of units) +  10 (bias)"
      ],
      "execution_count": 11,
      "outputs": [
        {
          "output_type": "stream",
          "text": [
            "Model: \"sequential_1\"\n",
            "_________________________________________________________________\n",
            "Layer (type)                 Output Shape              Param #   \n",
            "=================================================================\n",
            "simple_rnn_1 (SimpleRNN)     (None, 10)                120       \n",
            "=================================================================\n",
            "Total params: 120\n",
            "Trainable params: 120\n",
            "Non-trainable params: 0\n",
            "_________________________________________________________________\n"
          ],
          "name": "stdout"
        }
      ]
    },
    {
      "cell_type": "code",
      "metadata": {
        "id": "PNt2sM9bmVte",
        "colab_type": "code",
        "colab": {
          "base_uri": "https://localhost:8080/",
          "height": 689
        },
        "outputId": "32cbaf4e-8e3f-4331-aa30-89d8a86a3c4d"
      },
      "source": [
        "optimizer = keras.optimizers.Adam(lr=0.005)\n",
        "model.compile(loss=\"mse\", optimizer=optimizer)\n",
        "history = model.fit(X_train, y_train, epochs=20,\n",
        "                    validation_data=(X_valid, y_valid))"
      ],
      "execution_count": 12,
      "outputs": [
        {
          "output_type": "stream",
          "text": [
            "Epoch 1/20\n",
            "219/219 [==============================] - 7s 34ms/step - loss: 0.0722 - val_loss: 0.0227\n",
            "Epoch 2/20\n",
            "219/219 [==============================] - 7s 33ms/step - loss: 0.0169 - val_loss: 0.0144\n",
            "Epoch 3/20\n",
            "219/219 [==============================] - 7s 32ms/step - loss: 0.0140 - val_loss: 0.0129\n",
            "Epoch 4/20\n",
            "219/219 [==============================] - 7s 33ms/step - loss: 0.0123 - val_loss: 0.0140\n",
            "Epoch 5/20\n",
            "219/219 [==============================] - 7s 34ms/step - loss: 0.0114 - val_loss: 0.0125\n",
            "Epoch 6/20\n",
            "219/219 [==============================] - 7s 34ms/step - loss: 0.0106 - val_loss: 0.0106\n",
            "Epoch 7/20\n",
            "219/219 [==============================] - 7s 34ms/step - loss: 0.0103 - val_loss: 0.0102\n",
            "Epoch 8/20\n",
            "219/219 [==============================] - 7s 33ms/step - loss: 0.0097 - val_loss: 0.0090\n",
            "Epoch 9/20\n",
            "219/219 [==============================] - 7s 33ms/step - loss: 0.0092 - val_loss: 0.0084\n",
            "Epoch 10/20\n",
            "219/219 [==============================] - 7s 32ms/step - loss: 0.0086 - val_loss: 0.0086\n",
            "Epoch 11/20\n",
            "219/219 [==============================] - 7s 31ms/step - loss: 0.0086 - val_loss: 0.0080\n",
            "Epoch 12/20\n",
            "219/219 [==============================] - 7s 32ms/step - loss: 0.0082 - val_loss: 0.0079\n",
            "Epoch 13/20\n",
            "219/219 [==============================] - 7s 32ms/step - loss: 0.0081 - val_loss: 0.0076\n",
            "Epoch 14/20\n",
            "219/219 [==============================] - 7s 31ms/step - loss: 0.0079 - val_loss: 0.0075\n",
            "Epoch 15/20\n",
            "219/219 [==============================] - 7s 33ms/step - loss: 0.0075 - val_loss: 0.0074\n",
            "Epoch 16/20\n",
            "219/219 [==============================] - 7s 32ms/step - loss: 0.0073 - val_loss: 0.0069\n",
            "Epoch 17/20\n",
            "219/219 [==============================] - 7s 32ms/step - loss: 0.0073 - val_loss: 0.0065\n",
            "Epoch 18/20\n",
            "219/219 [==============================] - 7s 32ms/step - loss: 0.0072 - val_loss: 0.0065\n",
            "Epoch 19/20\n",
            "219/219 [==============================] - 7s 32ms/step - loss: 0.0069 - val_loss: 0.0064\n",
            "Epoch 20/20\n",
            "219/219 [==============================] - 7s 31ms/step - loss: 0.0067 - val_loss: 0.0066\n"
          ],
          "name": "stdout"
        }
      ]
    },
    {
      "cell_type": "code",
      "metadata": {
        "id": "YRFIwlS6NaAk",
        "colab_type": "code",
        "colab": {
          "base_uri": "https://localhost:8080/",
          "height": 50
        },
        "outputId": "5471954e-45aa-4c18-ca6d-936ecaea2d5f"
      },
      "source": [
        "model.evaluate(X_valid, y_valid)"
      ],
      "execution_count": 13,
      "outputs": [
        {
          "output_type": "stream",
          "text": [
            "63/63 [==============================] - 0s 5ms/step - loss: 0.0066\n"
          ],
          "name": "stdout"
        },
        {
          "output_type": "execute_result",
          "data": {
            "text/plain": [
              "0.006600305438041687"
            ]
          },
          "metadata": {
            "tags": []
          },
          "execution_count": 13
        }
      ]
    },
    {
      "cell_type": "code",
      "metadata": {
        "id": "9wq9OwI1PKY9",
        "colab_type": "code",
        "colab": {}
      },
      "source": [
        "def plot_learning_curves(loss, val_loss):\n",
        "    plt.plot(np.arange(len(loss)) + 0.5, loss, \"b.-\", label=\"Training loss\")\n",
        "    plt.plot(np.arange(len(val_loss)) + 1, val_loss, \"r.-\", label=\"Validation loss\")\n",
        "    plt.gca().xaxis.set_major_locator(mpl.ticker.MaxNLocator(integer=True))\n",
        "    plt.axis([1, 20, 0, 0.05])\n",
        "    plt.legend(fontsize=14)\n",
        "    plt.xlabel(\"Epochs\")\n",
        "    plt.ylabel(\"Loss\")\n",
        "    plt.grid(True)"
      ],
      "execution_count": 0,
      "outputs": []
    },
    {
      "cell_type": "code",
      "metadata": {
        "id": "kYERmwODNaDb",
        "colab_type": "code",
        "colab": {
          "base_uri": "https://localhost:8080/",
          "height": 291
        },
        "outputId": "7ae68bea-b00e-4fae-b038-8867eef292d6"
      },
      "source": [
        "plot_learning_curves(history.history[\"loss\"], history.history[\"val_loss\"])\n",
        "plt.show()"
      ],
      "execution_count": 15,
      "outputs": [
        {
          "output_type": "display_data",
          "data": {
            "image/png": "[encoded data removed]",
            "text/plain": [
              "<Figure size 432x288 with 1 Axes>"
            ]
          },
          "metadata": {
            "tags": [],
            "needs_background": "light"
          }
        }
      ]
    },
    {
      "cell_type": "markdown",
      "metadata": {
        "id": "0sjcPYMbOrHG",
        "colab_type": "text"
      },
      "source": [
        "Deep RNN - Seq2Seq or Seq2Vec"
      ]
    },
    {
      "cell_type": "code",
      "metadata": {
        "id": "wvHAnmFSNaGl",
        "colab_type": "code",
        "colab": {}
      },
      "source": [
        "np.random.seed(42)\n",
        "tf.random.set_seed(42)\n",
        "\n",
        "model = keras.models.Sequential([\n",
        "    keras.layers.SimpleRNN(20, return_sequences=True, input_shape=[None, 1]),\n",
        "    keras.layers.SimpleRNN(5, return_sequences=True), #return_sequence parameter decides returns a sequence as input.\n",
        "    keras.layers.SimpleRNN(1) # This returns only last output (vec) since we don't set return_sequences = True. Default is False.\n",
        "    # units=1 because we only predict one univariant.  Preferably, we should use Dense layer if predict only one.\n",
        "])"
      ],
      "execution_count": 0,
      "outputs": []
    },
    {
      "cell_type": "code",
      "metadata": {
        "id": "9Ns3-tc1mgxc",
        "colab_type": "code",
        "colab": {
          "base_uri": "https://localhost:8080/",
          "height": 252
        },
        "outputId": "6580ec59-f16f-4239-a175-7102deb604cd"
      },
      "source": [
        "model.summary() # second layer param = 5 * 20 (linking 2 layers) + 5 * 5 (neurons **) + 5 (bias)\n",
        "# first layer 1 * 20 (input neuron * first neuron) + 20 * 20 (layer neuron ** ) + 20 bias\n",
        "# third layer 5 * 1 + 1 * ! + 1"
      ],
      "execution_count": 35,
      "outputs": [
        {
          "output_type": "stream",
          "text": [
            "Model: \"sequential_8\"\n",
            "_________________________________________________________________\n",
            "Layer (type)                 Output Shape              Param #   \n",
            "=================================================================\n",
            "simple_rnn_19 (SimpleRNN)    (None, None, 20)          440       \n",
            "_________________________________________________________________\n",
            "simple_rnn_20 (SimpleRNN)    (None, None, 5)           130       \n",
            "_________________________________________________________________\n",
            "simple_rnn_21 (SimpleRNN)    (None, 1)                 7         \n",
            "=================================================================\n",
            "Total params: 577\n",
            "Trainable params: 577\n",
            "Non-trainable params: 0\n",
            "_________________________________________________________________\n"
          ],
          "name": "stdout"
        }
      ]
    },
    {
      "cell_type": "code",
      "metadata": {
        "id": "YYwl1U_xmjIZ",
        "colab_type": "code",
        "colab": {
          "base_uri": "https://localhost:8080/",
          "height": 689
        },
        "outputId": "3e1e6dce-ac1f-427e-9017-88336d88877b"
      },
      "source": [
        "model.compile(loss=\"mse\", optimizer=\"adam\")\n",
        "history = model.fit(X_train, y_train, epochs=20, batch_size=32, # let me try batch size and see if it works.\n",
        "                    validation_data=(X_valid, y_valid))"
      ],
      "execution_count": 33,
      "outputs": [
        {
          "output_type": "stream",
          "text": [
            "Epoch 1/20\n",
            "219/219 [==============================] - 20s 90ms/step - loss: 0.0040 - val_loss: 0.0036\n",
            "Epoch 2/20\n",
            "219/219 [==============================] - 20s 89ms/step - loss: 0.0038 - val_loss: 0.0034\n",
            "Epoch 3/20\n",
            "219/219 [==============================] - 19s 88ms/step - loss: 0.0036 - val_loss: 0.0034\n",
            "Epoch 4/20\n",
            "219/219 [==============================] - 19s 88ms/step - loss: 0.0035 - val_loss: 0.0034\n",
            "Epoch 5/20\n",
            "219/219 [==============================] - 20s 91ms/step - loss: 0.0035 - val_loss: 0.0033\n",
            "Epoch 6/20\n",
            "219/219 [==============================] - 20s 92ms/step - loss: 0.0034 - val_loss: 0.0031\n",
            "Epoch 7/20\n",
            "219/219 [==============================] - 20s 91ms/step - loss: 0.0033 - val_loss: 0.0037\n",
            "Epoch 8/20\n",
            "219/219 [==============================] - 20s 91ms/step - loss: 0.0035 - val_loss: 0.0032\n",
            "Epoch 9/20\n",
            "219/219 [==============================] - 20s 91ms/step - loss: 0.0033 - val_loss: 0.0030\n",
            "Epoch 10/20\n",
            "219/219 [==============================] - 19s 89ms/step - loss: 0.0033 - val_loss: 0.0031\n",
            "Epoch 11/20\n",
            "219/219 [==============================] - 20s 89ms/step - loss: 0.0032 - val_loss: 0.0031\n",
            "Epoch 12/20\n",
            "219/219 [==============================] - 20s 92ms/step - loss: 0.0032 - val_loss: 0.0031\n",
            "Epoch 13/20\n",
            "219/219 [==============================] - 20s 91ms/step - loss: 0.0032 - val_loss: 0.0029\n",
            "Epoch 14/20\n",
            "219/219 [==============================] - 20s 90ms/step - loss: 0.0032 - val_loss: 0.0035\n",
            "Epoch 15/20\n",
            "219/219 [==============================] - 19s 87ms/step - loss: 0.0032 - val_loss: 0.0030\n",
            "Epoch 16/20\n",
            "219/219 [==============================] - 20s 89ms/step - loss: 0.0032 - val_loss: 0.0030\n",
            "Epoch 17/20\n",
            "219/219 [==============================] - 20s 89ms/step - loss: 0.0032 - val_loss: 0.0029\n",
            "Epoch 18/20\n",
            "219/219 [==============================] - 19s 88ms/step - loss: 0.0032 - val_loss: 0.0029\n",
            "Epoch 19/20\n",
            "219/219 [==============================] - 19s 87ms/step - loss: 0.0031 - val_loss: 0.0029\n",
            "Epoch 20/20\n",
            "219/219 [==============================] - 20s 91ms/step - loss: 0.0032 - val_loss: 0.0029\n"
          ],
          "name": "stdout"
        }
      ]
    },
    {
      "cell_type": "code",
      "metadata": {
        "id": "i6VQw2XVOplx",
        "colab_type": "code",
        "colab": {
          "base_uri": "https://localhost:8080/",
          "height": 50
        },
        "outputId": "669833b1-4c93-41df-e7be-c6063ebd3a8c"
      },
      "source": [
        "model.evaluate(X_valid, y_valid)"
      ],
      "execution_count": 26,
      "outputs": [
        {
          "output_type": "stream",
          "text": [
            "63/63 [==============================] - 1s 11ms/step - loss: 0.0065\n"
          ],
          "name": "stdout"
        },
        {
          "output_type": "execute_result",
          "data": {
            "text/plain": [
              "0.006513596512377262"
            ]
          },
          "metadata": {
            "tags": []
          },
          "execution_count": 26
        }
      ]
    },
    {
      "cell_type": "code",
      "metadata": {
        "id": "8KNuxLjFOppD",
        "colab_type": "code",
        "colab": {
          "base_uri": "https://localhost:8080/",
          "height": 291
        },
        "outputId": "b6b3d0b5-ab23-4fb0-9210-9a78794c8de5"
      },
      "source": [
        "plot_learning_curves(history.history[\"loss\"], history.history[\"val_loss\"])\n",
        "plt.show()"
      ],
      "execution_count": 27,
      "outputs": [
        {
          "output_type": "display_data",
          "data": {
            "image/png": "[encoded data removed]",
            "text/plain": [
              "<Figure size 432x288 with 1 Axes>"
            ]
          },
          "metadata": {
            "tags": [],
            "needs_background": "light"
          }
        }
      ]
    },
    {
      "cell_type": "markdown",
      "metadata": {
        "id": "xPph-1Nk1KAP",
        "colab_type": "text"
      },
      "source": [
        "DNN only returns last output (Dense Layer).  Sec2Vec"
      ]
    },
    {
      "cell_type": "code",
      "metadata": {
        "id": "-BQdiD0WOpsI",
        "colab_type": "code",
        "colab": {
          "base_uri": "https://localhost:8080/",
          "height": 689
        },
        "outputId": "0189aa4b-e33e-416e-f187-d9020a8c5c5e"
      },
      "source": [
        "np.random.seed(42)\n",
        "tf.random.set_seed(42)\n",
        "\n",
        "model = keras.models.Sequential([\n",
        "    keras.layers.SimpleRNN(20, return_sequences=True, input_shape=[None, 1]),\n",
        "    keras.layers.SimpleRNN(20), # Since next layer is not RNN, return_sequences should set to false.\n",
        "    keras.layers.Dense(1) # this only returns last output.  Seq2Vec.  And we can choose other activations.\n",
        "])\n",
        "\n",
        "model.compile(loss=\"mse\", optimizer=\"adam\")\n",
        "history = model.fit(X_train, y_train, epochs=20,\n",
        "                    validation_data=(X_valid, y_valid))"
      ],
      "execution_count": 28,
      "outputs": [
        {
          "output_type": "stream",
          "text": [
            "Epoch 1/20\n",
            "219/219 [==============================] - 14s 65ms/step - loss: 0.0232 - val_loss: 0.0052\n",
            "Epoch 2/20\n",
            "219/219 [==============================] - 14s 65ms/step - loss: 0.0043 - val_loss: 0.0036\n",
            "Epoch 3/20\n",
            "219/219 [==============================] - 14s 63ms/step - loss: 0.0035 - val_loss: 0.0031\n",
            "Epoch 4/20\n",
            "219/219 [==============================] - 14s 63ms/step - loss: 0.0033 - val_loss: 0.0033\n",
            "Epoch 5/20\n",
            "219/219 [==============================] - 14s 65ms/step - loss: 0.0033 - val_loss: 0.0034\n",
            "Epoch 6/20\n",
            "219/219 [==============================] - 14s 62ms/step - loss: 0.0031 - val_loss: 0.0029\n",
            "Epoch 7/20\n",
            "219/219 [==============================] - 13s 61ms/step - loss: 0.0031 - val_loss: 0.0034\n",
            "Epoch 8/20\n",
            "219/219 [==============================] - 14s 62ms/step - loss: 0.0032 - val_loss: 0.0028\n",
            "Epoch 9/20\n",
            "219/219 [==============================] - 13s 61ms/step - loss: 0.0031 - val_loss: 0.0028\n",
            "Epoch 10/20\n",
            "219/219 [==============================] - 13s 61ms/step - loss: 0.0030 - val_loss: 0.0029\n",
            "Epoch 11/20\n",
            "219/219 [==============================] - 14s 63ms/step - loss: 0.0029 - val_loss: 0.0027\n",
            "Epoch 12/20\n",
            "219/219 [==============================] - 14s 62ms/step - loss: 0.0030 - val_loss: 0.0031\n",
            "Epoch 13/20\n",
            "219/219 [==============================] - 14s 63ms/step - loss: 0.0030 - val_loss: 0.0031\n",
            "Epoch 14/20\n",
            "219/219 [==============================] - 14s 62ms/step - loss: 0.0030 - val_loss: 0.0030\n",
            "Epoch 15/20\n",
            "219/219 [==============================] - 14s 63ms/step - loss: 0.0030 - val_loss: 0.0030\n",
            "Epoch 16/20\n",
            "219/219 [==============================] - 14s 63ms/step - loss: 0.0030 - val_loss: 0.0027\n",
            "Epoch 17/20\n",
            "219/219 [==============================] - 14s 62ms/step - loss: 0.0029 - val_loss: 0.0028\n",
            "Epoch 18/20\n",
            "219/219 [==============================] - 14s 63ms/step - loss: 0.0030 - val_loss: 0.0027\n",
            "Epoch 19/20\n",
            "219/219 [==============================] - 14s 65ms/step - loss: 0.0029 - val_loss: 0.0028\n",
            "Epoch 20/20\n",
            "219/219 [==============================] - 14s 63ms/step - loss: 0.0029 - val_loss: 0.0026\n"
          ],
          "name": "stdout"
        }
      ]
    },
    {
      "cell_type": "markdown",
      "metadata": {
        "id": "omlPGB2349In",
        "colab_type": "text"
      },
      "source": [
        "Deep RNN - forecasting several steps using the one-step model."
      ]
    },
    {
      "cell_type": "code",
      "metadata": {
        "id": "0HcCeYefOpyG",
        "colab_type": "code",
        "colab": {}
      },
      "source": [
        "np.random.seed(43) # not 42, as it would give the first series in the train set\n",
        "\n",
        "series = generate_time_series(1, n_steps + 10)\n",
        "X_new, Y_new = series[:, :n_steps], series[:, n_steps:]\n",
        "X = X_new\n",
        "for step_ahead in range(10):\n",
        "    y_pred_one = model.predict(X[:, step_ahead:])[:, np.newaxis, :]\n",
        "    X = np.concatenate([X, y_pred_one], axis=1)\n",
        "\n",
        "Y_pred = X[:, n_steps:]"
      ],
      "execution_count": 0,
      "outputs": []
    },
    {
      "cell_type": "code",
      "metadata": {
        "id": "RQGs_3c7Op0-",
        "colab_type": "code",
        "colab": {
          "base_uri": "https://localhost:8080/",
          "height": 34
        },
        "outputId": "b371167c-a1ae-46be-b568-69152fe7736d"
      },
      "source": [
        "Y_pred.shape"
      ],
      "execution_count": 37,
      "outputs": [
        {
          "output_type": "execute_result",
          "data": {
            "text/plain": [
              "(1, 10, 1)"
            ]
          },
          "metadata": {
            "tags": []
          },
          "execution_count": 37
        }
      ]
    },
    {
      "cell_type": "code",
      "metadata": {
        "id": "SlhaqA4NOp4Z",
        "colab_type": "code",
        "colab": {
          "base_uri": "https://localhost:8080/",
          "height": 314
        },
        "outputId": "29aadb27-3845-4008-8703-e7d17a113781"
      },
      "source": [
        "def plot_multiple_forecasts(X, Y, Y_pred):\n",
        "    n_steps = X.shape[1]\n",
        "    ahead = Y.shape[1]\n",
        "    plot_series(X[0, :, 0])\n",
        "    plt.plot(np.arange(n_steps, n_steps + ahead), Y[0, :, 0], \"ro-\", label=\"Actual\")\n",
        "    plt.plot(np.arange(n_steps, n_steps + ahead), Y_pred[0, :, 0], \"bx-\", label=\"Forecast\", markersize=10)\n",
        "    plt.axis([0, n_steps + ahead, -1, 1])\n",
        "    plt.legend(fontsize=14)\n",
        "\n",
        "plot_multiple_forecasts(X_new, Y_new, Y_pred)\n",
        "save_fig(\"forecast_ahead_plot\")\n",
        "plt.show()"
      ],
      "execution_count": 38,
      "outputs": [
        {
          "output_type": "stream",
          "text": [
            "Saving figure forecast_ahead_plot\n"
          ],
          "name": "stdout"
        },
        {
          "output_type": "display_data",
          "data": {
            "image/png": "[encoded data removed]",
            "text/plain": [
              "<Figure size 432x288 with 1 Axes>"
            ]
          },
          "metadata": {
            "tags": [],
            "needs_background": "light"
          }
        }
      ]
    },
    {
      "cell_type": "markdown",
      "metadata": {
        "id": "8WqjYQW7_DAy",
        "colab_type": "text"
      },
      "source": [
        "RNN - predict next ten steps at onece"
      ]
    },
    {
      "cell_type": "code",
      "metadata": {
        "id": "YiijQjSZOp7P",
        "colab_type": "code",
        "colab": {}
      },
      "source": [
        "np.random.seed(42)\n",
        "\n",
        "n_steps = 50\n",
        "series = generate_time_series(10000, n_steps + 10)\n",
        "X_train, Y_train = series[:7000, :n_steps], series[:7000, -10:, 0]\n",
        "X_valid, Y_valid = series[7000:9000, :n_steps], series[7000:9000, -10:, 0]\n",
        "X_test, Y_test = series[9000:, :n_steps], series[9000:, -10:, 0]"
      ],
      "execution_count": 0,
      "outputs": []
    },
    {
      "cell_type": "code",
      "metadata": {
        "id": "EU1e56JB9IIx",
        "colab_type": "code",
        "colab": {}
      },
      "source": [
        "X = X_valid\n",
        "for step_ahead in range(10):\n",
        "    y_pred_one = model.predict(X)[:, np.newaxis, :]\n",
        "    X = np.concatenate([X, y_pred_one], axis=1)\n",
        "\n",
        "Y_pred = X[:, n_steps:, 0]"
      ],
      "execution_count": 0,
      "outputs": []
    },
    {
      "cell_type": "code",
      "metadata": {
        "id": "VYjERbqg9INM",
        "colab_type": "code",
        "colab": {
          "base_uri": "https://localhost:8080/",
          "height": 34
        },
        "outputId": "6c0edd1d-c5a3-4112-8508-9667789df258"
      },
      "source": [
        "Y_pred.shape"
      ],
      "execution_count": 41,
      "outputs": [
        {
          "output_type": "execute_result",
          "data": {
            "text/plain": [
              "(2000, 10)"
            ]
          },
          "metadata": {
            "tags": []
          },
          "execution_count": 41
        }
      ]
    },
    {
      "cell_type": "code",
      "metadata": {
        "id": "obvjjagX9IQY",
        "colab_type": "code",
        "colab": {
          "base_uri": "https://localhost:8080/",
          "height": 34
        },
        "outputId": "019600fd-ae0b-45d1-c810-051fc33fadd0"
      },
      "source": [
        "np.mean(keras.metrics.mean_squared_error(Y_valid, Y_pred))"
      ],
      "execution_count": 42,
      "outputs": [
        {
          "output_type": "execute_result",
          "data": {
            "text/plain": [
              "0.9199434"
            ]
          },
          "metadata": {
            "tags": []
          },
          "execution_count": 42
        }
      ]
    },
    {
      "cell_type": "code",
      "metadata": {
        "id": "BorLeFBR9IUa",
        "colab_type": "code",
        "colab": {
          "base_uri": "https://localhost:8080/",
          "height": 689
        },
        "outputId": "8c4fc475-6dbc-49f7-d147-2eda96979e18"
      },
      "source": [
        "np.random.seed(42)\n",
        "tf.random.set_seed(42)\n",
        "\n",
        "model = keras.models.Sequential([\n",
        "    keras.layers.Flatten(input_shape=[50, 1]), # this is a linear model\n",
        "    keras.layers.Dense(10)\n",
        "])\n",
        "\n",
        "model.compile(loss=\"mse\", optimizer=\"adam\")\n",
        "history = model.fit(X_train, Y_train, epochs=20,\n",
        "                    validation_data=(X_valid, Y_valid))"
      ],
      "execution_count": 43,
      "outputs": [
        {
          "output_type": "stream",
          "text": [
            "Epoch 1/20\n",
            "219/219 [==============================] - 0s 2ms/step - loss: 0.1343 - val_loss: 0.0606\n",
            "Epoch 2/20\n",
            "219/219 [==============================] - 0s 2ms/step - loss: 0.0496 - val_loss: 0.0425\n",
            "Epoch 3/20\n",
            "219/219 [==============================] - 0s 2ms/step - loss: 0.0385 - val_loss: 0.0353\n",
            "Epoch 4/20\n",
            "219/219 [==============================] - 0s 2ms/step - loss: 0.0331 - val_loss: 0.0311\n",
            "Epoch 5/20\n",
            "219/219 [==============================] - 0s 2ms/step - loss: 0.0298 - val_loss: 0.0283\n",
            "Epoch 6/20\n",
            "219/219 [==============================] - 0s 2ms/step - loss: 0.0273 - val_loss: 0.0264\n",
            "Epoch 7/20\n",
            "219/219 [==============================] - 0s 2ms/step - loss: 0.0256 - val_loss: 0.0249\n",
            "Epoch 8/20\n",
            "219/219 [==============================] - 0s 2ms/step - loss: 0.0244 - val_loss: 0.0237\n",
            "Epoch 9/20\n",
            "219/219 [==============================] - 0s 2ms/step - loss: 0.0234 - val_loss: 0.0229\n",
            "Epoch 10/20\n",
            "219/219 [==============================] - 0s 2ms/step - loss: 0.0227 - val_loss: 0.0222\n",
            "Epoch 11/20\n",
            "219/219 [==============================] - 0s 2ms/step - loss: 0.0220 - val_loss: 0.0216\n",
            "Epoch 12/20\n",
            "219/219 [==============================] - 0s 2ms/step - loss: 0.0215 - val_loss: 0.0212\n",
            "Epoch 13/20\n",
            "219/219 [==============================] - 0s 2ms/step - loss: 0.0210 - val_loss: 0.0208\n",
            "Epoch 14/20\n",
            "219/219 [==============================] - 0s 2ms/step - loss: 0.0207 - val_loss: 0.0207\n",
            "Epoch 15/20\n",
            "219/219 [==============================] - 0s 2ms/step - loss: 0.0203 - val_loss: 0.0202\n",
            "Epoch 16/20\n",
            "219/219 [==============================] - 0s 2ms/step - loss: 0.0200 - val_loss: 0.0199\n",
            "Epoch 17/20\n",
            "219/219 [==============================] - 0s 2ms/step - loss: 0.0197 - val_loss: 0.0195\n",
            "Epoch 18/20\n",
            "219/219 [==============================] - 0s 2ms/step - loss: 0.0193 - val_loss: 0.0192\n",
            "Epoch 19/20\n",
            "219/219 [==============================] - 0s 2ms/step - loss: 0.0191 - val_loss: 0.0189\n",
            "Epoch 20/20\n",
            "219/219 [==============================] - 0s 2ms/step - loss: 0.0188 - val_loss: 0.0187\n"
          ],
          "name": "stdout"
        }
      ]
    },
    {
      "cell_type": "code",
      "metadata": {
        "id": "22YUi5_c9IZO",
        "colab_type": "code",
        "colab": {
          "base_uri": "https://localhost:8080/",
          "height": 689
        },
        "outputId": "24fd03fb-ad78-48b9-a2e2-46fc3d1d9a36"
      },
      "source": [
        "np.random.seed(42)\n",
        "tf.random.set_seed(42)\n",
        "\n",
        "model = keras.models.Sequential([\n",
        "    keras.layers.SimpleRNN(20, return_sequences=True, input_shape=[None, 1]),\n",
        "    keras.layers.SimpleRNN(20), # predict 10 outputs in one shot.\n",
        "    keras.layers.Dense(10)\n",
        "])\n",
        "\n",
        "model.compile(loss=\"mse\", optimizer=\"adam\")\n",
        "history = model.fit(X_train, Y_train, epochs=20,\n",
        "                    validation_data=(X_valid, Y_valid))"
      ],
      "execution_count": 44,
      "outputs": [
        {
          "output_type": "stream",
          "text": [
            "Epoch 1/20\n",
            "219/219 [==============================] - 13s 60ms/step - loss: 0.0669 - val_loss: 0.0317\n",
            "Epoch 2/20\n",
            "219/219 [==============================] - 13s 57ms/step - loss: 0.0265 - val_loss: 0.0200\n",
            "Epoch 3/20\n",
            "219/219 [==============================] - 13s 58ms/step - loss: 0.0183 - val_loss: 0.0160\n",
            "Epoch 4/20\n",
            "219/219 [==============================] - 13s 60ms/step - loss: 0.0155 - val_loss: 0.0144\n",
            "Epoch 5/20\n",
            "219/219 [==============================] - 13s 60ms/step - loss: 0.0139 - val_loss: 0.0118\n",
            "Epoch 6/20\n",
            "219/219 [==============================] - 13s 60ms/step - loss: 0.0128 - val_loss: 0.0112\n",
            "Epoch 7/20\n",
            "219/219 [==============================] - 13s 60ms/step - loss: 0.0122 - val_loss: 0.0110\n",
            "Epoch 8/20\n",
            "219/219 [==============================] - 13s 61ms/step - loss: 0.0115 - val_loss: 0.0103\n",
            "Epoch 9/20\n",
            "219/219 [==============================] - 13s 59ms/step - loss: 0.0111 - val_loss: 0.0112\n",
            "Epoch 10/20\n",
            "219/219 [==============================] - 13s 58ms/step - loss: 0.0110 - val_loss: 0.0100\n",
            "Epoch 11/20\n",
            "219/219 [==============================] - 13s 58ms/step - loss: 0.0108 - val_loss: 0.0103\n",
            "Epoch 12/20\n",
            "219/219 [==============================] - 13s 58ms/step - loss: 0.0102 - val_loss: 0.0096\n",
            "Epoch 13/20\n",
            "219/219 [==============================] - 13s 60ms/step - loss: 0.0104 - val_loss: 0.0100\n",
            "Epoch 14/20\n",
            "219/219 [==============================] - 13s 59ms/step - loss: 0.0098 - val_loss: 0.0103\n",
            "Epoch 15/20\n",
            "219/219 [==============================] - 13s 60ms/step - loss: 0.0095 - val_loss: 0.0107\n",
            "Epoch 16/20\n",
            "219/219 [==============================] - 13s 61ms/step - loss: 0.0092 - val_loss: 0.0089\n",
            "Epoch 17/20\n",
            "219/219 [==============================] - 13s 59ms/step - loss: 0.0094 - val_loss: 0.0111\n",
            "Epoch 18/20\n",
            "219/219 [==============================] - 13s 61ms/step - loss: 0.0095 - val_loss: 0.0094\n",
            "Epoch 19/20\n",
            "219/219 [==============================] - 13s 59ms/step - loss: 0.0093 - val_loss: 0.0083\n",
            "Epoch 20/20\n",
            "219/219 [==============================] - 13s 58ms/step - loss: 0.0094 - val_loss: 0.0085\n"
          ],
          "name": "stdout"
        }
      ]
    },
    {
      "cell_type": "code",
      "metadata": {
        "id": "4kxZgyAk9Icn",
        "colab_type": "code",
        "colab": {}
      },
      "source": [
        "np.random.seed(43)\n",
        "\n",
        "series = generate_time_series(1, 50 + 10)\n",
        "X_new, Y_new = series[:, :50, :], series[:, -10:, :]\n",
        "Y_pred = model.predict(X_new)[..., np.newaxis]"
      ],
      "execution_count": 0,
      "outputs": []
    },
    {
      "cell_type": "code",
      "metadata": {
        "id": "i5lqjFxIARQX",
        "colab_type": "code",
        "colab": {
          "base_uri": "https://localhost:8080/",
          "height": 293
        },
        "outputId": "5d7afc39-da1a-493b-80b4-1ceee3d1d052"
      },
      "source": [
        "plot_multiple_forecasts(X_new, Y_new, Y_pred)\n",
        "plt.show()"
      ],
      "execution_count": 46,
      "outputs": [
        {
          "output_type": "display_data",
          "data": {
            "image/png": "[encoded data removed]",
            "text/plain": [
              "<Figure size 432x288 with 1 Axes>"
            ]
          },
          "metadata": {
            "tags": [],
            "needs_background": "light"
          }
        }
      ]
    },
    {
      "cell_type": "markdown",
      "metadata": {
        "id": "Ob7UJPxKKk7o",
        "colab_type": "text"
      },
      "source": [
        "Deep RNN - predict 10 periods but each and every time step.  Not at once\n",
        "This will allow more error gradients through the model.\n",
        "Now let's create an RNN that predicts the next 10 steps at each time step. That is, instead of just forecasting time steps 50 to 59 based on time steps 0 to 49, it will forecast time steps 1 to 10 at time step 0, then time steps 2 to 11 at time step 1, and so on, and finally it will forecast time steps 50 to 59 at the last time step. Notice that the model is causal: when it makes predictions at any time step, it can only see past time steps."
      ]
    },
    {
      "cell_type": "code",
      "metadata": {
        "id": "TXAjZMJSASN2",
        "colab_type": "code",
        "colab": {}
      },
      "source": [
        "np.random.seed(42)\n",
        "\n",
        "n_steps = 50\n",
        "series = generate_time_series(10000, n_steps + 10)\n",
        "X_train = series[:7000, :n_steps]\n",
        "X_valid = series[7000:9000, :n_steps]\n",
        "X_test = series[9000:, :n_steps]\n",
        "Y = np.empty((10000, n_steps, 10))\n",
        "for step_ahead in range(1, 10 + 1):\n",
        "    Y[..., step_ahead - 1] = series[..., step_ahead:step_ahead + n_steps, 0]\n",
        "Y_train = Y[:7000]\n",
        "Y_valid = Y[7000:9000]\n",
        "Y_test = Y[9000:]"
      ],
      "execution_count": 0,
      "outputs": []
    },
    {
      "cell_type": "code",
      "metadata": {
        "id": "EK7fY5U3ASdW",
        "colab_type": "code",
        "colab": {
          "base_uri": "https://localhost:8080/",
          "height": 34
        },
        "outputId": "732ab69c-8591-478b-a756-195dbb72c2d6"
      },
      "source": [
        "X_train.shape, Y_train.shape"
      ],
      "execution_count": 48,
      "outputs": [
        {
          "output_type": "execute_result",
          "data": {
            "text/plain": [
              "((7000, 50, 1), (7000, 50, 10))"
            ]
          },
          "metadata": {
            "tags": []
          },
          "execution_count": 48
        }
      ]
    },
    {
      "cell_type": "markdown",
      "metadata": {
        "id": "mcsPjtF-NvHz",
        "colab_type": "text"
      },
      "source": [
        "Next is the real seq2seq by using TimeDistributed Layer wrapper."
      ]
    },
    {
      "cell_type": "code",
      "metadata": {
        "id": "8kQ7HLRkLCon",
        "colab_type": "code",
        "colab": {}
      },
      "source": [
        "tf.random.set_seed(42)\n",
        "\n",
        "model = keras.models.Sequential([\n",
        "    keras.layers.SimpleRNN(20, return_sequences=True, input_shape=[None, 1]),\n",
        "    keras.layers.SimpleRNN(20, return_sequences=True), # Even this layer should set return_sequences=True\n",
        "    keras.layers.TimeDistributed(keras.layers.Dense(10)) # The only difference is to output one period at one time step.\n",
        "])"
      ],
      "execution_count": 0,
      "outputs": []
    },
    {
      "cell_type": "code",
      "metadata": {
        "id": "yHlz03BFLHbn",
        "colab_type": "code",
        "colab": {
          "base_uri": "https://localhost:8080/",
          "height": 252
        },
        "outputId": "b18d34cb-8f6d-4987-ec39-41a6d1c5aca7"
      },
      "source": [
        "model.summary() # summary is same"
      ],
      "execution_count": 50,
      "outputs": [
        {
          "output_type": "stream",
          "text": [
            "Model: \"sequential_11\"\n",
            "_________________________________________________________________\n",
            "Layer (type)                 Output Shape              Param #   \n",
            "=================================================================\n",
            "simple_rnn_24 (SimpleRNN)    (None, None, 20)          440       \n",
            "_________________________________________________________________\n",
            "simple_rnn_25 (SimpleRNN)    (None, None, 20)          820       \n",
            "_________________________________________________________________\n",
            "time_distributed (TimeDistri (None, None, 10)          210       \n",
            "=================================================================\n",
            "Total params: 1,470\n",
            "Trainable params: 1,470\n",
            "Non-trainable params: 0\n",
            "_________________________________________________________________\n"
          ],
          "name": "stdout"
        }
      ]
    },
    {
      "cell_type": "code",
      "metadata": {
        "id": "zImC4YPkLMfX",
        "colab_type": "code",
        "colab": {
          "base_uri": "https://localhost:8080/",
          "height": 689
        },
        "outputId": "9c2eef02-422f-4e3b-854f-a39d66a36de9"
      },
      "source": [
        "def last_time_step_mse(Y_true, Y_pred):\n",
        "    return keras.metrics.mean_squared_error(Y_true[:, -1], Y_pred[:, -1]) # Has to define a special loss\n",
        "\n",
        "model.compile(loss=\"mse\", optimizer=keras.optimizers.Adam(lr=0.01), metrics=[last_time_step_mse])\n",
        "history = model.fit(X_train, Y_train, epochs=20,\n",
        "                    validation_data=(X_valid, Y_valid))"
      ],
      "execution_count": 51,
      "outputs": [
        {
          "output_type": "stream",
          "text": [
            "Epoch 1/20\n",
            "219/219 [==============================] - 13s 62ms/step - loss: 0.0508 - last_time_step_mse: 0.0400 - val_loss: 0.0429 - val_last_time_step_mse: 0.0324\n",
            "Epoch 2/20\n",
            "219/219 [==============================] - 13s 61ms/step - loss: 0.0395 - last_time_step_mse: 0.0283 - val_loss: 0.0351 - val_last_time_step_mse: 0.0243\n",
            "Epoch 3/20\n",
            "219/219 [==============================] - 13s 60ms/step - loss: 0.0323 - last_time_step_mse: 0.0211 - val_loss: 0.0290 - val_last_time_step_mse: 0.0168\n",
            "Epoch 4/20\n",
            "219/219 [==============================] - 13s 60ms/step - loss: 0.0294 - last_time_step_mse: 0.0181 - val_loss: 0.0278 - val_last_time_step_mse: 0.0157\n",
            "Epoch 5/20\n",
            "219/219 [==============================] - 13s 62ms/step - loss: 0.0273 - last_time_step_mse: 0.0154 - val_loss: 0.0272 - val_last_time_step_mse: 0.0175\n",
            "Epoch 6/20\n",
            "219/219 [==============================] - 13s 61ms/step - loss: 0.0249 - last_time_step_mse: 0.0121 - val_loss: 0.0252 - val_last_time_step_mse: 0.0120\n",
            "Epoch 7/20\n",
            "219/219 [==============================] - 13s 61ms/step - loss: 0.0232 - last_time_step_mse: 0.0104 - val_loss: 0.0228 - val_last_time_step_mse: 0.0095\n",
            "Epoch 8/20\n",
            "219/219 [==============================] - 13s 61ms/step - loss: 0.0216 - last_time_step_mse: 0.0086 - val_loss: 0.0212 - val_last_time_step_mse: 0.0081\n",
            "Epoch 9/20\n",
            "219/219 [==============================] - 13s 61ms/step - loss: 0.0215 - last_time_step_mse: 0.0087 - val_loss: 0.0203 - val_last_time_step_mse: 0.0076\n",
            "Epoch 10/20\n",
            "219/219 [==============================] - 14s 62ms/step - loss: 0.0209 - last_time_step_mse: 0.0084 - val_loss: 0.0221 - val_last_time_step_mse: 0.0097\n",
            "Epoch 11/20\n",
            "219/219 [==============================] - 13s 60ms/step - loss: 0.0203 - last_time_step_mse: 0.0079 - val_loss: 0.0197 - val_last_time_step_mse: 0.0073\n",
            "Epoch 12/20\n",
            "219/219 [==============================] - 13s 58ms/step - loss: 0.0200 - last_time_step_mse: 0.0078 - val_loss: 0.0190 - val_last_time_step_mse: 0.0067\n",
            "Epoch 13/20\n",
            "219/219 [==============================] - 13s 60ms/step - loss: 0.0198 - last_time_step_mse: 0.0076 - val_loss: 0.0210 - val_last_time_step_mse: 0.0084\n",
            "Epoch 14/20\n",
            "219/219 [==============================] - 13s 60ms/step - loss: 0.0193 - last_time_step_mse: 0.0072 - val_loss: 0.0189 - val_last_time_step_mse: 0.0065\n",
            "Epoch 15/20\n",
            "219/219 [==============================] - 13s 61ms/step - loss: 0.0195 - last_time_step_mse: 0.0075 - val_loss: 0.0183 - val_last_time_step_mse: 0.0069\n",
            "Epoch 16/20\n",
            "219/219 [==============================] - 13s 59ms/step - loss: 0.0188 - last_time_step_mse: 0.0067 - val_loss: 0.0192 - val_last_time_step_mse: 0.0088\n",
            "Epoch 17/20\n",
            "219/219 [==============================] - 13s 61ms/step - loss: 0.0188 - last_time_step_mse: 0.0068 - val_loss: 0.0189 - val_last_time_step_mse: 0.0076\n",
            "Epoch 18/20\n",
            "219/219 [==============================] - 14s 62ms/step - loss: 0.0186 - last_time_step_mse: 0.0070 - val_loss: 0.0188 - val_last_time_step_mse: 0.0071\n",
            "Epoch 19/20\n",
            "219/219 [==============================] - 13s 62ms/step - loss: 0.0186 - last_time_step_mse: 0.0068 - val_loss: 0.0173 - val_last_time_step_mse: 0.0057\n",
            "Epoch 20/20\n",
            "219/219 [==============================] - 13s 61ms/step - loss: 0.0183 - last_time_step_mse: 0.0068 - val_loss: 0.0199 - val_last_time_step_mse: 0.0090\n"
          ],
          "name": "stdout"
        }
      ]
    },
    {
      "cell_type": "code",
      "metadata": {
        "id": "f3C2yNLBLeZn",
        "colab_type": "code",
        "colab": {}
      },
      "source": [
        "np.random.seed(43)\n",
        "\n",
        "series = generate_time_series(1, 50 + 10)\n",
        "X_new, Y_new = series[:, :50, :], series[:, 50:, :]\n",
        "Y_pred = model.predict(X_new)[:, -1][..., np.newaxis]"
      ],
      "execution_count": 0,
      "outputs": []
    },
    {
      "cell_type": "code",
      "metadata": {
        "id": "ZYBDmP3wLqYc",
        "colab_type": "code",
        "colab": {
          "base_uri": "https://localhost:8080/",
          "height": 293
        },
        "outputId": "a2809e8e-100c-4693-8ac0-1a93464f5acd"
      },
      "source": [
        "plot_multiple_forecasts(X_new, Y_new, Y_pred)\n",
        "plt.show()"
      ],
      "execution_count": 53,
      "outputs": [
        {
          "output_type": "display_data",
          "data": {
            "image/png": "[encoded data removed]",
            "text/plain": [
              "<Figure size 432x288 with 1 Axes>"
            ]
          },
          "metadata": {
            "tags": [],
            "needs_background": "light"
          }
        }
      ]
    },
    {
      "cell_type": "code",
      "metadata": {
        "id": "TlYMyzl3Lt7c",
        "colab_type": "code",
        "colab": {}
      },
      "source": [
        ""
      ],
      "execution_count": 0,
      "outputs": []
    }
  ]
}